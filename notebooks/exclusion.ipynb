{
 "cells": [
  {
   "cell_type": "code",
   "execution_count": 1,
   "metadata": {
    "ExecuteTime": {
     "start_time": "2023-05-14T13:18:52.463551Z",
     "end_time": "2023-05-14T13:18:54.619517Z"
    },
    "collapsed": true
   },
   "outputs": [],
   "source": [
    "import pandas as pd"
   ]
  },
  {
   "cell_type": "code",
   "execution_count": 2,
   "metadata": {
    "ExecuteTime": {
     "start_time": "2023-05-14T13:19:00.266421Z",
     "end_time": "2023-05-14T13:19:14.857781Z"
    }
   },
   "outputs": [
    {
     "name": "stderr",
     "output_type": "stream",
     "text": [
      "C:\\Users\\eythe\\AppData\\Local\\Temp\\ipykernel_9120\\3265378624.py:1: DtypeWarning: Columns (4) have mixed types. Specify dtype option on import or set low_memory=False.\n",
      "  drug = pd.read_csv(\"../data/eICU/infusiondrug.csv\")\n"
     ]
    }
   ],
   "source": [
    "drug = pd.read_csv(\"../data/eICU/infusiondrug.csv\")\n",
    "diagnosis = pd.read_csv(\"../data/eICU/diagnosis.csv\")\n",
    "patients_weight = pd.read_csv(\"../data/eICU/patient.csv\")[[\"patientunitstayid\", \"admissionweight\"]]\n",
    "patient = pd.read_csv(\"../data/eICU/patient.csv\")\n",
    "drug = drug.merge(patients_weight, on=\"patientunitstayid\")"
   ]
  },
  {
   "cell_type": "code",
   "execution_count": 3,
   "metadata": {
    "ExecuteTime": {
     "start_time": "2023-05-14T13:19:15.805941Z",
     "end_time": "2023-05-14T13:19:16.335859Z"
    }
   },
   "outputs": [],
   "source": [
    "# add hospitalID and unitType and wardID to the drug table corelated to patientunitstayid\n",
    "drug[\"hospitalid\"] = drug[\"patientunitstayid\"].map(patient.set_index(\"patientunitstayid\")[\"hospitalid\"])\n",
    "drug[\"unittype\"] = drug[\"patientunitstayid\"].map(patient.set_index(\"patientunitstayid\")[\"unittype\"])\n",
    "drug[\"wardid\"] = drug[\"patientunitstayid\"].map(patient.set_index(\"patientunitstayid\")[\"wardid\"])"
   ]
  },
  {
   "cell_type": "code",
   "execution_count": 4,
   "metadata": {
    "ExecuteTime": {
     "start_time": "2023-05-14T13:19:17.094022Z",
     "end_time": "2023-05-14T13:19:27.998999Z"
    }
   },
   "outputs": [],
   "source": [
    "# filter drug from NA in drugname, patientunitstayid, hospitalid, unittype, wardid\n",
    "drug = drug[~drug['drugname'].isna()]\n",
    "drug = drug[~drug['patientunitstayid'].isna()]\n",
    "drug = drug[~drug['hospitalid'].isna()]\n",
    "drug = drug[~drug['unittype'].isna()]\n",
    "drug = drug[~drug['wardid'].isna()]\n",
    "\n",
    "#filter drug to include only drugnames that start with \"Norepinephrine\"\n",
    "drug = drug[drug['drugname'].str.startswith(\"Norepinephrine\")]"
   ]
  },
  {
   "cell_type": "code",
   "execution_count": 5,
   "metadata": {
    "ExecuteTime": {
     "start_time": "2023-05-14T13:19:29.159560Z",
     "end_time": "2023-05-14T13:19:29.582074Z"
    }
   },
   "outputs": [
    {
     "data": {
      "text/plain": "         infusiondrugid  patientunitstayid  infusionoffset   \n4               1969910             242082              55  \\\n2               1968206             242082             125   \n10              1985898             242082             230   \n12              1972141             242082             275   \n1               1998443             242082             425   \n...                 ...                ...             ...   \n4803535        75122092            3353251            3823   \n4803681        75308975            3353251            3968   \n4803654        75246300            3353251            4043   \n4803592        75148203            3353251            4358   \n4803657        75215992            3353251            4592   \n\n                                                  drugname drugrate   \n4                                 Norepinephrine (mcg/min)     2.13  \\\n2                                 Norepinephrine (mcg/min)        7   \n10                                Norepinephrine (mcg/min)     9.07   \n12                                Norepinephrine (mcg/min)       10   \n1                                 Norepinephrine (mcg/min)    10.93   \n...                                                    ...      ...   \n4803535  Norepinephrine MAX 32 mg Dextrose 5% 250 ml (m...       15   \n4803681  Norepinephrine MAX 32 mg Dextrose 5% 250 ml (m...       16   \n4803654  Norepinephrine MAX 32 mg Dextrose 5% 250 ml (m...       12   \n4803592  Norepinephrine MAX 32 mg Dextrose 5% 250 ml (m...       10   \n4803657  Norepinephrine MAX 32 mg Dextrose 5% 250 ml (m...        8   \n\n         infusionrate  drugamount  volumeoffluid  patientweight   \n4                 8.0         4.0          250.0            NaN  \\\n2                26.3         4.0          250.0            NaN   \n10               34.0         4.0          250.0            NaN   \n12               37.5         4.0          250.0            NaN   \n1                41.0         4.0          250.0            NaN   \n...               ...         ...            ...            ...   \n4803535           NaN         NaN            NaN            NaN   \n4803681           NaN         NaN            NaN            NaN   \n4803654           NaN         NaN            NaN            NaN   \n4803592           NaN         NaN            NaN            NaN   \n4803657           NaN         NaN            NaN            NaN   \n\n         admissionweight  hospitalid      unittype  wardid  \n4                   90.7         108  Med-Surg ICU     136  \n2                   90.7         108  Med-Surg ICU     136  \n10                  90.7         108  Med-Surg ICU     136  \n12                  90.7         108  Med-Surg ICU     136  \n1                   90.7         108  Med-Surg ICU     136  \n...                  ...         ...           ...     ...  \n4803535            102.0         458   Cardiac ICU    1104  \n4803681            102.0         458   Cardiac ICU    1104  \n4803654            102.0         458   Cardiac ICU    1104  \n4803592            102.0         458   Cardiac ICU    1104  \n4803657            102.0         458   Cardiac ICU    1104  \n\n[565396 rows x 13 columns]",
      "text/html": "<div>\n<style scoped>\n    .dataframe tbody tr th:only-of-type {\n        vertical-align: middle;\n    }\n\n    .dataframe tbody tr th {\n        vertical-align: top;\n    }\n\n    .dataframe thead th {\n        text-align: right;\n    }\n</style>\n<table border=\"1\" class=\"dataframe\">\n  <thead>\n    <tr style=\"text-align: right;\">\n      <th></th>\n      <th>infusiondrugid</th>\n      <th>patientunitstayid</th>\n      <th>infusionoffset</th>\n      <th>drugname</th>\n      <th>drugrate</th>\n      <th>infusionrate</th>\n      <th>drugamount</th>\n      <th>volumeoffluid</th>\n      <th>patientweight</th>\n      <th>admissionweight</th>\n      <th>hospitalid</th>\n      <th>unittype</th>\n      <th>wardid</th>\n    </tr>\n  </thead>\n  <tbody>\n    <tr>\n      <th>4</th>\n      <td>1969910</td>\n      <td>242082</td>\n      <td>55</td>\n      <td>Norepinephrine (mcg/min)</td>\n      <td>2.13</td>\n      <td>8.0</td>\n      <td>4.0</td>\n      <td>250.0</td>\n      <td>NaN</td>\n      <td>90.7</td>\n      <td>108</td>\n      <td>Med-Surg ICU</td>\n      <td>136</td>\n    </tr>\n    <tr>\n      <th>2</th>\n      <td>1968206</td>\n      <td>242082</td>\n      <td>125</td>\n      <td>Norepinephrine (mcg/min)</td>\n      <td>7</td>\n      <td>26.3</td>\n      <td>4.0</td>\n      <td>250.0</td>\n      <td>NaN</td>\n      <td>90.7</td>\n      <td>108</td>\n      <td>Med-Surg ICU</td>\n      <td>136</td>\n    </tr>\n    <tr>\n      <th>10</th>\n      <td>1985898</td>\n      <td>242082</td>\n      <td>230</td>\n      <td>Norepinephrine (mcg/min)</td>\n      <td>9.07</td>\n      <td>34.0</td>\n      <td>4.0</td>\n      <td>250.0</td>\n      <td>NaN</td>\n      <td>90.7</td>\n      <td>108</td>\n      <td>Med-Surg ICU</td>\n      <td>136</td>\n    </tr>\n    <tr>\n      <th>12</th>\n      <td>1972141</td>\n      <td>242082</td>\n      <td>275</td>\n      <td>Norepinephrine (mcg/min)</td>\n      <td>10</td>\n      <td>37.5</td>\n      <td>4.0</td>\n      <td>250.0</td>\n      <td>NaN</td>\n      <td>90.7</td>\n      <td>108</td>\n      <td>Med-Surg ICU</td>\n      <td>136</td>\n    </tr>\n    <tr>\n      <th>1</th>\n      <td>1998443</td>\n      <td>242082</td>\n      <td>425</td>\n      <td>Norepinephrine (mcg/min)</td>\n      <td>10.93</td>\n      <td>41.0</td>\n      <td>4.0</td>\n      <td>250.0</td>\n      <td>NaN</td>\n      <td>90.7</td>\n      <td>108</td>\n      <td>Med-Surg ICU</td>\n      <td>136</td>\n    </tr>\n    <tr>\n      <th>...</th>\n      <td>...</td>\n      <td>...</td>\n      <td>...</td>\n      <td>...</td>\n      <td>...</td>\n      <td>...</td>\n      <td>...</td>\n      <td>...</td>\n      <td>...</td>\n      <td>...</td>\n      <td>...</td>\n      <td>...</td>\n      <td>...</td>\n    </tr>\n    <tr>\n      <th>4803535</th>\n      <td>75122092</td>\n      <td>3353251</td>\n      <td>3823</td>\n      <td>Norepinephrine MAX 32 mg Dextrose 5% 250 ml (m...</td>\n      <td>15</td>\n      <td>NaN</td>\n      <td>NaN</td>\n      <td>NaN</td>\n      <td>NaN</td>\n      <td>102.0</td>\n      <td>458</td>\n      <td>Cardiac ICU</td>\n      <td>1104</td>\n    </tr>\n    <tr>\n      <th>4803681</th>\n      <td>75308975</td>\n      <td>3353251</td>\n      <td>3968</td>\n      <td>Norepinephrine MAX 32 mg Dextrose 5% 250 ml (m...</td>\n      <td>16</td>\n      <td>NaN</td>\n      <td>NaN</td>\n      <td>NaN</td>\n      <td>NaN</td>\n      <td>102.0</td>\n      <td>458</td>\n      <td>Cardiac ICU</td>\n      <td>1104</td>\n    </tr>\n    <tr>\n      <th>4803654</th>\n      <td>75246300</td>\n      <td>3353251</td>\n      <td>4043</td>\n      <td>Norepinephrine MAX 32 mg Dextrose 5% 250 ml (m...</td>\n      <td>12</td>\n      <td>NaN</td>\n      <td>NaN</td>\n      <td>NaN</td>\n      <td>NaN</td>\n      <td>102.0</td>\n      <td>458</td>\n      <td>Cardiac ICU</td>\n      <td>1104</td>\n    </tr>\n    <tr>\n      <th>4803592</th>\n      <td>75148203</td>\n      <td>3353251</td>\n      <td>4358</td>\n      <td>Norepinephrine MAX 32 mg Dextrose 5% 250 ml (m...</td>\n      <td>10</td>\n      <td>NaN</td>\n      <td>NaN</td>\n      <td>NaN</td>\n      <td>NaN</td>\n      <td>102.0</td>\n      <td>458</td>\n      <td>Cardiac ICU</td>\n      <td>1104</td>\n    </tr>\n    <tr>\n      <th>4803657</th>\n      <td>75215992</td>\n      <td>3353251</td>\n      <td>4592</td>\n      <td>Norepinephrine MAX 32 mg Dextrose 5% 250 ml (m...</td>\n      <td>8</td>\n      <td>NaN</td>\n      <td>NaN</td>\n      <td>NaN</td>\n      <td>NaN</td>\n      <td>102.0</td>\n      <td>458</td>\n      <td>Cardiac ICU</td>\n      <td>1104</td>\n    </tr>\n  </tbody>\n</table>\n<p>565396 rows × 13 columns</p>\n</div>"
     },
     "execution_count": 5,
     "metadata": {},
     "output_type": "execute_result"
    }
   ],
   "source": [
    "# sort drug by patientunitstayid and drugstartoffset\n",
    "drug = drug.sort_values(by=[\"patientunitstayid\", \"infusionoffset\"])\n",
    "drug"
   ]
  },
  {
   "cell_type": "code",
   "execution_count": 6,
   "metadata": {
    "ExecuteTime": {
     "start_time": "2023-05-14T13:19:38.306640Z",
     "end_time": "2023-05-14T13:19:38.505482Z"
    }
   },
   "outputs": [
    {
     "data": {
      "text/plain": "hospitalid  unittype    \n342         Med-Surg ICU      1\n151         Med-Surg ICU      1\n265         MICU              1\n156         Med-Surg ICU      1\n438         Med-Surg ICU      1\n                           ... \n157         Med-Surg ICU    375\n167         Med-Surg ICU    384\n188         MICU            430\n300         Med-Surg ICU    452\n199         Med-Surg ICU    525\nName: patientunitstayid, Length: 195, dtype: int64"
     },
     "execution_count": 6,
     "metadata": {},
     "output_type": "execute_result"
    }
   ],
   "source": [
    "drug.groupby([\"hospitalid\", \"unittype\"])[\"patientunitstayid\"].nunique().sort_values()"
   ]
  },
  {
   "cell_type": "code",
   "execution_count": 8,
   "metadata": {
    "ExecuteTime": {
     "start_time": "2023-05-14T13:20:44.395405Z",
     "end_time": "2023-05-14T13:20:52.054468Z"
    }
   },
   "outputs": [],
   "source": [
    "bp = pd.read_csv(\"../preprocess/filtered_bp_eicu.csv\")\n",
    "bp = bp.sort_values(by=[\"stay_id\", \"cur_bp_time\"])\n",
    "bp = bp[bp[\"stay_id\"].isin(drug[\"patientunitstayid\"])]\n",
    "bp[\"next_bp_time\"] = bp.groupby(\"stay_id\")[\"cur_bp_time\"].shift(-1)\n",
    "bp[\"interval\"] = bp[\"next_bp_time\"] - bp[\"cur_bp_time\"]\n",
    "drug[\"drugrate\"] = pd.to_numeric(drug[\"drugrate\"], errors='coerce')\n",
    "bp[\"age\"] = pd.to_numeric(bp[\"stay_id\"].map(patient.set_index(\"patientunitstayid\")[\"age\"]), errors='coerce')\n",
    "bp[\"hospitalid\"] = bp[\"stay_id\"].map(patient.set_index(\"patientunitstayid\")[\"hospitalid\"])\n",
    "bp[\"unittype\"] = bp[\"stay_id\"].map(patient.set_index(\"patientunitstayid\")[\"unittype\"])\n",
    "bp[\"wardid\"] = bp[\"stay_id\"].map(patient.set_index(\"patientunitstayid\")[\"wardid\"])\n",
    "# create a new column for the number of patients per hospital\n",
    "# bp[\"pat_per_hos\"] = bp[\"hospitalid\"].map(bp.groupby([\"hospitalid\"]).agg({\"stay_id\": [\"nunique\"]}).sort_values(by=(\"stay_id\", \"nunique\")))\n"
   ]
  },
  {
   "cell_type": "code",
   "execution_count": 9,
   "metadata": {
    "ExecuteTime": {
     "start_time": "2023-05-14T13:20:55.067553Z",
     "end_time": "2023-05-14T13:20:55.306933Z"
    }
   },
   "outputs": [
    {
     "data": {
      "text/plain": "           stay_id\n           nunique\nhospitalid        \n279              1\n422              1\n174              1\n404              1\n182              1\n...            ...\n157            155\n148            156\n176            199\n167            238\n420            342\n\n[111 rows x 1 columns]",
      "text/html": "<div>\n<style scoped>\n    .dataframe tbody tr th:only-of-type {\n        vertical-align: middle;\n    }\n\n    .dataframe tbody tr th {\n        vertical-align: top;\n    }\n\n    .dataframe thead tr th {\n        text-align: left;\n    }\n\n    .dataframe thead tr:last-of-type th {\n        text-align: right;\n    }\n</style>\n<table border=\"1\" class=\"dataframe\">\n  <thead>\n    <tr>\n      <th></th>\n      <th>stay_id</th>\n    </tr>\n    <tr>\n      <th></th>\n      <th>nunique</th>\n    </tr>\n    <tr>\n      <th>hospitalid</th>\n      <th></th>\n    </tr>\n  </thead>\n  <tbody>\n    <tr>\n      <th>279</th>\n      <td>1</td>\n    </tr>\n    <tr>\n      <th>422</th>\n      <td>1</td>\n    </tr>\n    <tr>\n      <th>174</th>\n      <td>1</td>\n    </tr>\n    <tr>\n      <th>404</th>\n      <td>1</td>\n    </tr>\n    <tr>\n      <th>182</th>\n      <td>1</td>\n    </tr>\n    <tr>\n      <th>...</th>\n      <td>...</td>\n    </tr>\n    <tr>\n      <th>157</th>\n      <td>155</td>\n    </tr>\n    <tr>\n      <th>148</th>\n      <td>156</td>\n    </tr>\n    <tr>\n      <th>176</th>\n      <td>199</td>\n    </tr>\n    <tr>\n      <th>167</th>\n      <td>238</td>\n    </tr>\n    <tr>\n      <th>420</th>\n      <td>342</td>\n    </tr>\n  </tbody>\n</table>\n<p>111 rows × 1 columns</p>\n</div>"
     },
     "execution_count": 9,
     "metadata": {},
     "output_type": "execute_result"
    }
   ],
   "source": [
    "# find the number of patients per hospital\n",
    "bp.groupby([\"hospitalid\"]).agg({\"stay_id\": [\"nunique\"]}).sort_values(by=(\"stay_id\", \"nunique\"))\n"
   ]
  },
  {
   "cell_type": "code",
   "execution_count": 10,
   "metadata": {},
   "outputs": [
    {
     "ename": "KeyError",
     "evalue": "'pat_per_hos'",
     "output_type": "error",
     "traceback": [
      "\u001B[1;31m---------------------------------------------------------------------------\u001B[0m",
      "\u001B[1;31mKeyError\u001B[0m                                  Traceback (most recent call last)",
      "File \u001B[1;32m~\\anaconda3\\envs\\modernit\\lib\\site-packages\\pandas\\core\\indexes\\base.py:3652\u001B[0m, in \u001B[0;36mIndex.get_loc\u001B[1;34m(self, key)\u001B[0m\n\u001B[0;32m   3651\u001B[0m \u001B[38;5;28;01mtry\u001B[39;00m:\n\u001B[1;32m-> 3652\u001B[0m     \u001B[38;5;28;01mreturn\u001B[39;00m \u001B[38;5;28;43mself\u001B[39;49m\u001B[38;5;241;43m.\u001B[39;49m\u001B[43m_engine\u001B[49m\u001B[38;5;241;43m.\u001B[39;49m\u001B[43mget_loc\u001B[49m\u001B[43m(\u001B[49m\u001B[43mcasted_key\u001B[49m\u001B[43m)\u001B[49m\n\u001B[0;32m   3653\u001B[0m \u001B[38;5;28;01mexcept\u001B[39;00m \u001B[38;5;167;01mKeyError\u001B[39;00m \u001B[38;5;28;01mas\u001B[39;00m err:\n",
      "File \u001B[1;32m~\\anaconda3\\envs\\modernit\\lib\\site-packages\\pandas\\_libs\\index.pyx:147\u001B[0m, in \u001B[0;36mpandas._libs.index.IndexEngine.get_loc\u001B[1;34m()\u001B[0m\n",
      "File \u001B[1;32m~\\anaconda3\\envs\\modernit\\lib\\site-packages\\pandas\\_libs\\index.pyx:176\u001B[0m, in \u001B[0;36mpandas._libs.index.IndexEngine.get_loc\u001B[1;34m()\u001B[0m\n",
      "File \u001B[1;32mpandas\\_libs\\hashtable_class_helper.pxi:7080\u001B[0m, in \u001B[0;36mpandas._libs.hashtable.PyObjectHashTable.get_item\u001B[1;34m()\u001B[0m\n",
      "File \u001B[1;32mpandas\\_libs\\hashtable_class_helper.pxi:7088\u001B[0m, in \u001B[0;36mpandas._libs.hashtable.PyObjectHashTable.get_item\u001B[1;34m()\u001B[0m\n",
      "\u001B[1;31mKeyError\u001B[0m: 'pat_per_hos'",
      "\nThe above exception was the direct cause of the following exception:\n",
      "\u001B[1;31mKeyError\u001B[0m                                  Traceback (most recent call last)",
      "Cell \u001B[1;32mIn[10], line 1\u001B[0m\n\u001B[1;32m----> 1\u001B[0m \u001B[43mbp\u001B[49m\u001B[43m[\u001B[49m\u001B[38;5;124;43m\"\u001B[39;49m\u001B[38;5;124;43mpat_per_hos\u001B[39;49m\u001B[38;5;124;43m\"\u001B[39;49m\u001B[43m]\u001B[49m\n",
      "File \u001B[1;32m~\\anaconda3\\envs\\modernit\\lib\\site-packages\\pandas\\core\\frame.py:3760\u001B[0m, in \u001B[0;36mDataFrame.__getitem__\u001B[1;34m(self, key)\u001B[0m\n\u001B[0;32m   3758\u001B[0m \u001B[38;5;28;01mif\u001B[39;00m \u001B[38;5;28mself\u001B[39m\u001B[38;5;241m.\u001B[39mcolumns\u001B[38;5;241m.\u001B[39mnlevels \u001B[38;5;241m>\u001B[39m \u001B[38;5;241m1\u001B[39m:\n\u001B[0;32m   3759\u001B[0m     \u001B[38;5;28;01mreturn\u001B[39;00m \u001B[38;5;28mself\u001B[39m\u001B[38;5;241m.\u001B[39m_getitem_multilevel(key)\n\u001B[1;32m-> 3760\u001B[0m indexer \u001B[38;5;241m=\u001B[39m \u001B[38;5;28;43mself\u001B[39;49m\u001B[38;5;241;43m.\u001B[39;49m\u001B[43mcolumns\u001B[49m\u001B[38;5;241;43m.\u001B[39;49m\u001B[43mget_loc\u001B[49m\u001B[43m(\u001B[49m\u001B[43mkey\u001B[49m\u001B[43m)\u001B[49m\n\u001B[0;32m   3761\u001B[0m \u001B[38;5;28;01mif\u001B[39;00m is_integer(indexer):\n\u001B[0;32m   3762\u001B[0m     indexer \u001B[38;5;241m=\u001B[39m [indexer]\n",
      "File \u001B[1;32m~\\anaconda3\\envs\\modernit\\lib\\site-packages\\pandas\\core\\indexes\\base.py:3654\u001B[0m, in \u001B[0;36mIndex.get_loc\u001B[1;34m(self, key)\u001B[0m\n\u001B[0;32m   3652\u001B[0m     \u001B[38;5;28;01mreturn\u001B[39;00m \u001B[38;5;28mself\u001B[39m\u001B[38;5;241m.\u001B[39m_engine\u001B[38;5;241m.\u001B[39mget_loc(casted_key)\n\u001B[0;32m   3653\u001B[0m \u001B[38;5;28;01mexcept\u001B[39;00m \u001B[38;5;167;01mKeyError\u001B[39;00m \u001B[38;5;28;01mas\u001B[39;00m err:\n\u001B[1;32m-> 3654\u001B[0m     \u001B[38;5;28;01mraise\u001B[39;00m \u001B[38;5;167;01mKeyError\u001B[39;00m(key) \u001B[38;5;28;01mfrom\u001B[39;00m \u001B[38;5;21;01merr\u001B[39;00m\n\u001B[0;32m   3655\u001B[0m \u001B[38;5;28;01mexcept\u001B[39;00m \u001B[38;5;167;01mTypeError\u001B[39;00m:\n\u001B[0;32m   3656\u001B[0m     \u001B[38;5;66;03m# If we have a listlike key, _check_indexing_error will raise\u001B[39;00m\n\u001B[0;32m   3657\u001B[0m     \u001B[38;5;66;03m#  InvalidIndexError. Otherwise we fall through and re-raise\u001B[39;00m\n\u001B[0;32m   3658\u001B[0m     \u001B[38;5;66;03m#  the TypeError.\u001B[39;00m\n\u001B[0;32m   3659\u001B[0m     \u001B[38;5;28mself\u001B[39m\u001B[38;5;241m.\u001B[39m_check_indexing_error(key)\n",
      "\u001B[1;31mKeyError\u001B[0m: 'pat_per_hos'"
     ]
    }
   ],
   "source": [
    "bp[\"pat_per_hos\"]"
   ]
  },
  {
   "cell_type": "code",
   "execution_count": 11,
   "metadata": {
    "ExecuteTime": {
     "start_time": "2023-05-14T13:21:56.949455Z",
     "end_time": "2023-05-14T13:21:57.179507Z"
    }
   },
   "outputs": [],
   "source": [
    "# give me a table of hospitals, wardid and number of patients per hospital\n",
    "bp_hospital = bp.groupby(['hospitalid']).agg({'stay_id': ['nunique']})"
   ]
  },
  {
   "cell_type": "code",
   "execution_count": 12,
   "metadata": {
    "ExecuteTime": {
     "start_time": "2023-05-14T13:22:00.857080Z",
     "end_time": "2023-05-14T13:22:00.906327Z"
    }
   },
   "outputs": [
    {
     "data": {
      "text/plain": "array([ 243334,  243643,  244256, ..., 3352721, 3353144, 3353251],\n      dtype=int64)"
     },
     "execution_count": 12,
     "metadata": {},
     "output_type": "execute_result"
    }
   ],
   "source": [
    "bp[\"stay_id\"].unique()"
   ]
  },
  {
   "cell_type": "code",
   "execution_count": 13,
   "metadata": {
    "ExecuteTime": {
     "end_time": "2023-05-01T16:41:10.542311Z",
     "start_time": "2023-05-01T16:41:10.479263Z"
    }
   },
   "outputs": [
    {
     "ename": "NameError",
     "evalue": "name 'bp_big' is not defined",
     "output_type": "error",
     "traceback": [
      "\u001B[1;31m---------------------------------------------------------------------------\u001B[0m",
      "\u001B[1;31mNameError\u001B[0m                                 Traceback (most recent call last)",
      "Cell \u001B[1;32mIn[13], line 1\u001B[0m\n\u001B[1;32m----> 1\u001B[0m \u001B[38;5;28mprint\u001B[39m(\u001B[38;5;124mf\u001B[39m\u001B[38;5;124m'\u001B[39m\u001B[38;5;124mNumber of patients in the dataset: \u001B[39m\u001B[38;5;132;01m{\u001B[39;00mbp_big[\u001B[38;5;124m\"\u001B[39m\u001B[38;5;124mstay_id\u001B[39m\u001B[38;5;124m\"\u001B[39m]\u001B[38;5;241m.\u001B[39mnunique()\u001B[38;5;132;01m}\u001B[39;00m\u001B[38;5;124m'\u001B[39m)\n\u001B[0;32m      2\u001B[0m \u001B[38;5;28mprint\u001B[39m(\u001B[38;5;124mf\u001B[39m\u001B[38;5;124m'\u001B[39m\u001B[38;5;124mNumber of hospitals in the dataset: \u001B[39m\u001B[38;5;132;01m{\u001B[39;00mbp_big[\u001B[38;5;124m\"\u001B[39m\u001B[38;5;124mhospitalid\u001B[39m\u001B[38;5;124m\"\u001B[39m]\u001B[38;5;241m.\u001B[39mnunique()\u001B[38;5;132;01m}\u001B[39;00m\u001B[38;5;124m'\u001B[39m)\n\u001B[0;32m      3\u001B[0m \u001B[38;5;28mprint\u001B[39m(\u001B[38;5;124mf\u001B[39m\u001B[38;5;124m'\u001B[39m\u001B[38;5;124mNumber of patients per hospital in the dataset: \u001B[39m\u001B[38;5;132;01m{\u001B[39;00mbp_big[\u001B[38;5;124m\"\u001B[39m\u001B[38;5;124mpat_per_hos\u001B[39m\u001B[38;5;124m\"\u001B[39m]\u001B[38;5;241m.\u001B[39munique()\u001B[38;5;132;01m}\u001B[39;00m\u001B[38;5;124m'\u001B[39m)\n",
      "\u001B[1;31mNameError\u001B[0m: name 'bp_big' is not defined"
     ]
    }
   ],
   "source": [
    "print(f'Number of patients in the dataset: {bp_big[\"stay_id\"].nunique()}')\n",
    "print(f'Number of hospitals in the dataset: {bp_big[\"hospitalid\"].nunique()}')\n",
    "print(f'Number of patients per hospital in the dataset: {bp_big[\"pat_per_hos\"].unique()}')"
   ]
  },
  {
   "cell_type": "code",
   "execution_count": 14,
   "metadata": {
    "ExecuteTime": {
     "start_time": "2023-05-14T13:23:05.493635Z",
     "end_time": "2023-05-14T13:23:05.809544Z"
    }
   },
   "outputs": [
    {
     "data": {
      "text/plain": "         Unnamed: 0  stay_id  cur_bp_time  cur_bp  next_bp_time  interval   \n821904      1679952   426975         1051    63.0        1056.0       5.0  \\\n821898      1679936   426975         1056    62.0        1061.0       5.0   \n821888      1679920   426975         1061    64.0        1066.0       5.0   \n822021      1680165   426975         1066    71.0        1071.0       5.0   \n822016      1680149   426975         1071    77.0        1076.0       5.0   \n...             ...      ...          ...     ...           ...       ...   \n2656663      672834  3130750         4540   199.0        4545.0       5.0   \n2656622      672741  3130750         4545   199.0        4550.0       5.0   \n2656630      672757  3130750         4550   199.0        4555.0       5.0   \n2656041      670562  3130750         4555   199.0        4560.0       5.0   \n2656304      671493  3130750         4560   199.0           NaN       NaN   \n\n          age  hospitalid      unittype  wardid  \n821904   69.0         142  Med-Surg ICU     256  \n821898   69.0         142  Med-Surg ICU     256  \n821888   69.0         142  Med-Surg ICU     256  \n822021   69.0         142  Med-Surg ICU     256  \n822016   69.0         142  Med-Surg ICU     256  \n...       ...         ...           ...     ...  \n2656663  70.0         420          SICU    1027  \n2656622  70.0         420          SICU    1027  \n2656630  70.0         420          SICU    1027  \n2656041  70.0         420          SICU    1027  \n2656304  70.0         420          SICU    1027  \n\n[2055960 rows x 10 columns]",
      "text/html": "<div>\n<style scoped>\n    .dataframe tbody tr th:only-of-type {\n        vertical-align: middle;\n    }\n\n    .dataframe tbody tr th {\n        vertical-align: top;\n    }\n\n    .dataframe thead th {\n        text-align: right;\n    }\n</style>\n<table border=\"1\" class=\"dataframe\">\n  <thead>\n    <tr style=\"text-align: right;\">\n      <th></th>\n      <th>Unnamed: 0</th>\n      <th>stay_id</th>\n      <th>cur_bp_time</th>\n      <th>cur_bp</th>\n      <th>next_bp_time</th>\n      <th>interval</th>\n      <th>age</th>\n      <th>hospitalid</th>\n      <th>unittype</th>\n      <th>wardid</th>\n    </tr>\n  </thead>\n  <tbody>\n    <tr>\n      <th>821904</th>\n      <td>1679952</td>\n      <td>426975</td>\n      <td>1051</td>\n      <td>63.0</td>\n      <td>1056.0</td>\n      <td>5.0</td>\n      <td>69.0</td>\n      <td>142</td>\n      <td>Med-Surg ICU</td>\n      <td>256</td>\n    </tr>\n    <tr>\n      <th>821898</th>\n      <td>1679936</td>\n      <td>426975</td>\n      <td>1056</td>\n      <td>62.0</td>\n      <td>1061.0</td>\n      <td>5.0</td>\n      <td>69.0</td>\n      <td>142</td>\n      <td>Med-Surg ICU</td>\n      <td>256</td>\n    </tr>\n    <tr>\n      <th>821888</th>\n      <td>1679920</td>\n      <td>426975</td>\n      <td>1061</td>\n      <td>64.0</td>\n      <td>1066.0</td>\n      <td>5.0</td>\n      <td>69.0</td>\n      <td>142</td>\n      <td>Med-Surg ICU</td>\n      <td>256</td>\n    </tr>\n    <tr>\n      <th>822021</th>\n      <td>1680165</td>\n      <td>426975</td>\n      <td>1066</td>\n      <td>71.0</td>\n      <td>1071.0</td>\n      <td>5.0</td>\n      <td>69.0</td>\n      <td>142</td>\n      <td>Med-Surg ICU</td>\n      <td>256</td>\n    </tr>\n    <tr>\n      <th>822016</th>\n      <td>1680149</td>\n      <td>426975</td>\n      <td>1071</td>\n      <td>77.0</td>\n      <td>1076.0</td>\n      <td>5.0</td>\n      <td>69.0</td>\n      <td>142</td>\n      <td>Med-Surg ICU</td>\n      <td>256</td>\n    </tr>\n    <tr>\n      <th>...</th>\n      <td>...</td>\n      <td>...</td>\n      <td>...</td>\n      <td>...</td>\n      <td>...</td>\n      <td>...</td>\n      <td>...</td>\n      <td>...</td>\n      <td>...</td>\n      <td>...</td>\n    </tr>\n    <tr>\n      <th>2656663</th>\n      <td>672834</td>\n      <td>3130750</td>\n      <td>4540</td>\n      <td>199.0</td>\n      <td>4545.0</td>\n      <td>5.0</td>\n      <td>70.0</td>\n      <td>420</td>\n      <td>SICU</td>\n      <td>1027</td>\n    </tr>\n    <tr>\n      <th>2656622</th>\n      <td>672741</td>\n      <td>3130750</td>\n      <td>4545</td>\n      <td>199.0</td>\n      <td>4550.0</td>\n      <td>5.0</td>\n      <td>70.0</td>\n      <td>420</td>\n      <td>SICU</td>\n      <td>1027</td>\n    </tr>\n    <tr>\n      <th>2656630</th>\n      <td>672757</td>\n      <td>3130750</td>\n      <td>4550</td>\n      <td>199.0</td>\n      <td>4555.0</td>\n      <td>5.0</td>\n      <td>70.0</td>\n      <td>420</td>\n      <td>SICU</td>\n      <td>1027</td>\n    </tr>\n    <tr>\n      <th>2656041</th>\n      <td>670562</td>\n      <td>3130750</td>\n      <td>4555</td>\n      <td>199.0</td>\n      <td>4560.0</td>\n      <td>5.0</td>\n      <td>70.0</td>\n      <td>420</td>\n      <td>SICU</td>\n      <td>1027</td>\n    </tr>\n    <tr>\n      <th>2656304</th>\n      <td>671493</td>\n      <td>3130750</td>\n      <td>4560</td>\n      <td>199.0</td>\n      <td>NaN</td>\n      <td>NaN</td>\n      <td>70.0</td>\n      <td>420</td>\n      <td>SICU</td>\n      <td>1027</td>\n    </tr>\n  </tbody>\n</table>\n<p>2055960 rows × 10 columns</p>\n</div>"
     },
     "execution_count": 14,
     "metadata": {},
     "output_type": "execute_result"
    }
   ],
   "source": [
    "# bp_big will consist of patients from hospitalid with more then 400 differnt patientsunitstayid\n",
    "bp_big = bp[bp[\"hospitalid\"].isin(drug.groupby(\"hospitalid\")[\"patientunitstayid\"].nunique().sort_values()[drug.groupby(\"hospitalid\")[\"patientunitstayid\"].nunique().sort_values() > 400].index)]\n",
    "bp_big"
   ]
  },
  {
   "cell_type": "code",
   "execution_count": 15,
   "outputs": [
    {
     "data": {
      "text/plain": "1637"
     },
     "execution_count": 15,
     "metadata": {},
     "output_type": "execute_result"
    }
   ],
   "source": [
    "bp_big[\"stay_id\"].nunique()"
   ],
   "metadata": {
    "collapsed": false,
    "ExecuteTime": {
     "start_time": "2023-05-14T13:23:51.444966Z",
     "end_time": "2023-05-14T13:23:51.554687Z"
    }
   }
  },
  {
   "cell_type": "code",
   "execution_count": 16,
   "outputs": [
    {
     "ename": "ValueError",
     "evalue": "\nImage export using the \"kaleido\" engine requires the kaleido package,\nwhich can be installed using pip:\n    $ pip install -U kaleido\n",
     "output_type": "error",
     "traceback": [
      "\u001B[1;31m---------------------------------------------------------------------------\u001B[0m",
      "\u001B[1;31mValueError\u001B[0m                                Traceback (most recent call last)",
      "Cell \u001B[1;32mIn[16], line 24\u001B[0m\n\u001B[0;32m     19\u001B[0m fig\u001B[38;5;241m.\u001B[39madd_trace(go\u001B[38;5;241m.\u001B[39mScatter(x\u001B[38;5;241m=\u001B[39mx, y\u001B[38;5;241m=\u001B[39my \u001B[38;5;241m*\u001B[39m np\u001B[38;5;241m.\u001B[39mones(x\u001B[38;5;241m.\u001B[39msize), name\u001B[38;5;241m=\u001B[39m\u001B[38;5;124m\"\u001B[39m\u001B[38;5;124mNOR\u001B[39m\u001B[38;5;124m\"\u001B[39m, mode\u001B[38;5;241m=\u001B[39m\u001B[38;5;124m\"\u001B[39m\u001B[38;5;124mmarkers\u001B[39m\u001B[38;5;124m\"\u001B[39m, marker\u001B[38;5;241m=\u001B[39m\u001B[38;5;28mdict\u001B[39m(color\u001B[38;5;241m=\u001B[39mz,colorscale\u001B[38;5;241m=\u001B[39m\u001B[38;5;124m'\u001B[39m\u001B[38;5;124mViridis\u001B[39m\u001B[38;5;124m'\u001B[39m,\n\u001B[0;32m     20\u001B[0m     colorbar\u001B[38;5;241m=\u001B[39m\u001B[38;5;28mdict\u001B[39m(title\u001B[38;5;241m=\u001B[39m\u001B[38;5;124m'\u001B[39m\u001B[38;5;124mNOR\u001B[39m\u001B[38;5;124m'\u001B[39m)\n\u001B[0;32m     21\u001B[0m ),\n\u001B[0;32m     22\u001B[0m )) \u001B[38;5;66;03m# TODO added drug amount as color\u001B[39;00m\n\u001B[0;32m     23\u001B[0m fig\u001B[38;5;241m.\u001B[39mupdate_layout(title_text\u001B[38;5;241m=\u001B[39m\u001B[38;5;124m\"\u001B[39m\u001B[38;5;124mbp over time for 5 patients\u001B[39m\u001B[38;5;124m\"\u001B[39m)\n\u001B[1;32m---> 24\u001B[0m \u001B[43mfig\u001B[49m\u001B[38;5;241;43m.\u001B[39;49m\u001B[43mwrite_image\u001B[49m\u001B[43m(\u001B[49m\u001B[38;5;124;43mf\u001B[39;49m\u001B[38;5;124;43m\"\u001B[39;49m\u001B[38;5;124;43mbp\u001B[39;49m\u001B[38;5;132;43;01m{\u001B[39;49;00m\u001B[43mi\u001B[49m\u001B[38;5;132;43;01m}\u001B[39;49;00m\u001B[38;5;124;43m.png\u001B[39;49m\u001B[38;5;124;43m\"\u001B[39;49m\u001B[43m)\u001B[49m\n\u001B[0;32m     25\u001B[0m \u001B[38;5;66;03m# create a histogram of bp values for the patient\u001B[39;00m\n\u001B[0;32m     26\u001B[0m fig \u001B[38;5;241m=\u001B[39m go\u001B[38;5;241m.\u001B[39mFigure()\n",
      "File \u001B[1;32m~\\anaconda3\\envs\\modernit\\lib\\site-packages\\plotly\\basedatatypes.py:3821\u001B[0m, in \u001B[0;36mBaseFigure.write_image\u001B[1;34m(self, *args, **kwargs)\u001B[0m\n\u001B[0;32m   3761\u001B[0m \u001B[38;5;124;03m\"\"\"\u001B[39;00m\n\u001B[0;32m   3762\u001B[0m \u001B[38;5;124;03mConvert a figure to a static image and write it to a file or writeable\u001B[39;00m\n\u001B[0;32m   3763\u001B[0m \u001B[38;5;124;03mobject\u001B[39;00m\n\u001B[1;32m   (...)\u001B[0m\n\u001B[0;32m   3817\u001B[0m \u001B[38;5;124;03mNone\u001B[39;00m\n\u001B[0;32m   3818\u001B[0m \u001B[38;5;124;03m\"\"\"\u001B[39;00m\n\u001B[0;32m   3819\u001B[0m \u001B[38;5;28;01mimport\u001B[39;00m \u001B[38;5;21;01mplotly\u001B[39;00m\u001B[38;5;21;01m.\u001B[39;00m\u001B[38;5;21;01mio\u001B[39;00m \u001B[38;5;28;01mas\u001B[39;00m \u001B[38;5;21;01mpio\u001B[39;00m\n\u001B[1;32m-> 3821\u001B[0m \u001B[38;5;28;01mreturn\u001B[39;00m \u001B[43mpio\u001B[49m\u001B[38;5;241;43m.\u001B[39;49m\u001B[43mwrite_image\u001B[49m\u001B[43m(\u001B[49m\u001B[38;5;28;43mself\u001B[39;49m\u001B[43m,\u001B[49m\u001B[43m \u001B[49m\u001B[38;5;241;43m*\u001B[39;49m\u001B[43margs\u001B[49m\u001B[43m,\u001B[49m\u001B[43m \u001B[49m\u001B[38;5;241;43m*\u001B[39;49m\u001B[38;5;241;43m*\u001B[39;49m\u001B[43mkwargs\u001B[49m\u001B[43m)\u001B[49m\n",
      "File \u001B[1;32m~\\anaconda3\\envs\\modernit\\lib\\site-packages\\plotly\\io\\_kaleido.py:267\u001B[0m, in \u001B[0;36mwrite_image\u001B[1;34m(fig, file, format, scale, width, height, validate, engine)\u001B[0m\n\u001B[0;32m    251\u001B[0m             \u001B[38;5;28;01mraise\u001B[39;00m \u001B[38;5;167;01mValueError\u001B[39;00m(\n\u001B[0;32m    252\u001B[0m                 \u001B[38;5;124;03m\"\"\"\u001B[39;00m\n\u001B[0;32m    253\u001B[0m \u001B[38;5;124;03mCannot infer image type from output path '{file}'.\u001B[39;00m\n\u001B[1;32m   (...)\u001B[0m\n\u001B[0;32m    261\u001B[0m                 )\n\u001B[0;32m    262\u001B[0m             )\n\u001B[0;32m    264\u001B[0m     \u001B[38;5;66;03m# Request image\u001B[39;00m\n\u001B[0;32m    265\u001B[0m     \u001B[38;5;66;03m# -------------\u001B[39;00m\n\u001B[0;32m    266\u001B[0m     \u001B[38;5;66;03m# Do this first so we don't create a file if image conversion fails\u001B[39;00m\n\u001B[1;32m--> 267\u001B[0m     img_data \u001B[38;5;241m=\u001B[39m \u001B[43mto_image\u001B[49m\u001B[43m(\u001B[49m\n\u001B[0;32m    268\u001B[0m \u001B[43m        \u001B[49m\u001B[43mfig\u001B[49m\u001B[43m,\u001B[49m\n\u001B[0;32m    269\u001B[0m \u001B[43m        \u001B[49m\u001B[38;5;28;43mformat\u001B[39;49m\u001B[38;5;241;43m=\u001B[39;49m\u001B[38;5;28;43mformat\u001B[39;49m\u001B[43m,\u001B[49m\n\u001B[0;32m    270\u001B[0m \u001B[43m        \u001B[49m\u001B[43mscale\u001B[49m\u001B[38;5;241;43m=\u001B[39;49m\u001B[43mscale\u001B[49m\u001B[43m,\u001B[49m\n\u001B[0;32m    271\u001B[0m \u001B[43m        \u001B[49m\u001B[43mwidth\u001B[49m\u001B[38;5;241;43m=\u001B[39;49m\u001B[43mwidth\u001B[49m\u001B[43m,\u001B[49m\n\u001B[0;32m    272\u001B[0m \u001B[43m        \u001B[49m\u001B[43mheight\u001B[49m\u001B[38;5;241;43m=\u001B[39;49m\u001B[43mheight\u001B[49m\u001B[43m,\u001B[49m\n\u001B[0;32m    273\u001B[0m \u001B[43m        \u001B[49m\u001B[43mvalidate\u001B[49m\u001B[38;5;241;43m=\u001B[39;49m\u001B[43mvalidate\u001B[49m\u001B[43m,\u001B[49m\n\u001B[0;32m    274\u001B[0m \u001B[43m        \u001B[49m\u001B[43mengine\u001B[49m\u001B[38;5;241;43m=\u001B[39;49m\u001B[43mengine\u001B[49m\u001B[43m,\u001B[49m\n\u001B[0;32m    275\u001B[0m \u001B[43m    \u001B[49m\u001B[43m)\u001B[49m\n\u001B[0;32m    277\u001B[0m     \u001B[38;5;66;03m# Open file\u001B[39;00m\n\u001B[0;32m    278\u001B[0m     \u001B[38;5;66;03m# ---------\u001B[39;00m\n\u001B[0;32m    279\u001B[0m     \u001B[38;5;28;01mif\u001B[39;00m path \u001B[38;5;129;01mis\u001B[39;00m \u001B[38;5;28;01mNone\u001B[39;00m:\n\u001B[0;32m    280\u001B[0m         \u001B[38;5;66;03m# We previously failed to make sense of `file` as a pathlib object.\u001B[39;00m\n\u001B[0;32m    281\u001B[0m         \u001B[38;5;66;03m# Attempt to write to `file` as an open file descriptor.\u001B[39;00m\n",
      "File \u001B[1;32m~\\anaconda3\\envs\\modernit\\lib\\site-packages\\plotly\\io\\_kaleido.py:133\u001B[0m, in \u001B[0;36mto_image\u001B[1;34m(fig, format, width, height, scale, validate, engine)\u001B[0m\n\u001B[0;32m    131\u001B[0m     \u001B[38;5;66;03m# Raise informative error message if Kaleido is not installed\u001B[39;00m\n\u001B[0;32m    132\u001B[0m     \u001B[38;5;28;01mif\u001B[39;00m scope \u001B[38;5;129;01mis\u001B[39;00m \u001B[38;5;28;01mNone\u001B[39;00m:\n\u001B[1;32m--> 133\u001B[0m         \u001B[38;5;28;01mraise\u001B[39;00m \u001B[38;5;167;01mValueError\u001B[39;00m(\n\u001B[0;32m    134\u001B[0m             \u001B[38;5;124;03m\"\"\"\u001B[39;00m\n\u001B[0;32m    135\u001B[0m \u001B[38;5;124;03mImage export using the \"kaleido\" engine requires the kaleido package,\u001B[39;00m\n\u001B[0;32m    136\u001B[0m \u001B[38;5;124;03mwhich can be installed using pip:\u001B[39;00m\n\u001B[0;32m    137\u001B[0m \u001B[38;5;124;03m    $ pip install -U kaleido\u001B[39;00m\n\u001B[0;32m    138\u001B[0m \u001B[38;5;124;03m\"\"\"\u001B[39;00m\n\u001B[0;32m    139\u001B[0m         )\n\u001B[0;32m    141\u001B[0m     \u001B[38;5;66;03m# Validate figure\u001B[39;00m\n\u001B[0;32m    142\u001B[0m     \u001B[38;5;66;03m# ---------------\u001B[39;00m\n\u001B[0;32m    143\u001B[0m     fig_dict \u001B[38;5;241m=\u001B[39m validate_coerce_fig_to_dict(fig, validate)\n",
      "\u001B[1;31mValueError\u001B[0m: \nImage export using the \"kaleido\" engine requires the kaleido package,\nwhich can be installed using pip:\n    $ pip install -U kaleido\n"
     ]
    }
   ],
   "source": [
    "# create a plot of bp over time for each patient using plotly subplot and add to each patient plot the norepinephrine infusion from drug table as scatter plot\n",
    "import plotly.graph_objects as go\n",
    "from plotly.subplots import make_subplots\n",
    "\n",
    "import numpy as np\n",
    "for i in range(100):\n",
    "    # assign random patient to pat\n",
    "    pat = bp_big[\"stay_id\"].value_counts()[bp_big[\"stay_id\"].value_counts() > 0].sample(5).index[0]\n",
    "    fig = go.Figure()\n",
    "    fig.add_trace(go.Scatter(x=bp_big[bp_big[\"stay_id\"] == pat][\"cur_bp_time\"], y=bp_big[bp_big[\"stay_id\"] == pat][\"cur_bp\"], name=\"MAP\"))\n",
    "    # scatter plot of norepinephrine infusion, not line plot\n",
    "    # fig.add_trace(go.Scatter(x=drug[drug[\"patientunitstayid\"] == pat][\"infusionoffset\"], y=drug[drug[\"patientunitstayid\"] == pat][\"drugrate\"], name=\"drug\", mode=\"markers\", marker=dict(color=\"red\")), row=i+1, col=1)\n",
    "    x = drug[drug[\"patientunitstayid\"] == pat][\"infusionoffset\"]\n",
    "    z = drug[drug[\"patientunitstayid\"] == pat][\"drugrate\"]\n",
    "    # make z values between 0 and 10\n",
    "    z2 = (z - z.min()) / (z.max() - z.min()) * 10\n",
    "    # set y as a liitle under the min of bp and higher drugrate be higher\n",
    "    y = bp_big[bp_big[\"stay_id\"] == pat][\"cur_bp\"].min() - 10 + z2\n",
    "    fig.add_trace(go.Scatter(x=x, y=y * np.ones(x.size), name=\"NOR\", mode=\"markers\", marker=dict(color=z,colorscale='Viridis',\n",
    "        colorbar=dict(title='NOR')\n",
    "    ),\n",
    "    )) # TODO added drug amount as color\n",
    "    fig.update_layout(title_text=\"bp over time for 5 patients\")\n",
    "    fig.write_image(f\"bp{i}.png\")\n",
    "    # create a histogram of bp values for the patient\n",
    "    fig = go.Figure()\n",
    "    fig.add_trace(go.Histogram(x=bp_big[bp_big[\"stay_id\"] == pat][\"cur_bp\"], name=\"bp\"))\n",
    "    fig.update_layout(title_text=\"bp over time for patient\")\n",
    "    fig.write_image(f\"bp_hist{i}.png\")\n",
    "\n"
   ],
   "metadata": {
    "collapsed": false
   }
  },
  {
   "cell_type": "code",
   "execution_count": 17,
   "outputs": [
    {
     "name": "stdout",
     "output_type": "stream",
     "text": [
      "Collecting kaleido\n",
      "  Downloading kaleido-0.2.1-py2.py3-none-win_amd64.whl (65.9 MB)\n",
      "     ---------------------------------------- 0.0/65.9 MB ? eta -:--:--\n",
      "     ---------------------------------------- 0.0/65.9 MB 1.3 MB/s eta 0:00:52\n",
      "     --------------------------------------- 0.1/65.9 MB 907.3 kB/s eta 0:01:13\n",
      "     ---------------------------------------- 0.2/65.9 MB 1.2 MB/s eta 0:00:54\n",
      "     ---------------------------------------- 0.2/65.9 MB 1.5 MB/s eta 0:00:44\n",
      "     ---------------------------------------- 0.4/65.9 MB 1.6 MB/s eta 0:00:41\n",
      "     ---------------------------------------- 0.5/65.9 MB 1.8 MB/s eta 0:00:36\n",
      "     ---------------------------------------- 0.7/65.9 MB 2.4 MB/s eta 0:00:28\n",
      "      --------------------------------------- 1.0/65.9 MB 2.9 MB/s eta 0:00:23\n",
      "     - -------------------------------------- 1.9/65.9 MB 4.6 MB/s eta 0:00:14\n",
      "     - -------------------------------------- 2.8/65.9 MB 6.0 MB/s eta 0:00:11\n",
      "     -- ------------------------------------- 3.4/65.9 MB 6.8 MB/s eta 0:00:10\n",
      "     -- ------------------------------------- 3.9/65.9 MB 7.4 MB/s eta 0:00:09\n",
      "     --- ------------------------------------ 5.0/65.9 MB 8.5 MB/s eta 0:00:08\n",
      "     --- ------------------------------------ 5.5/65.9 MB 8.5 MB/s eta 0:00:08\n",
      "     ---- ----------------------------------- 6.6/65.9 MB 9.6 MB/s eta 0:00:07\n",
      "     ---- ----------------------------------- 7.2/65.9 MB 9.8 MB/s eta 0:00:06\n",
      "     ----- ---------------------------------- 8.4/65.9 MB 10.7 MB/s eta 0:00:06\n",
      "     ----- ---------------------------------- 9.3/65.9 MB 11.0 MB/s eta 0:00:06\n",
      "     ------ -------------------------------- 10.4/65.9 MB 13.6 MB/s eta 0:00:05\n",
      "     ------ -------------------------------- 11.0/65.9 MB 17.2 MB/s eta 0:00:04\n",
      "     ------ -------------------------------- 11.3/65.9 MB 16.8 MB/s eta 0:00:04\n",
      "     ------- ------------------------------- 12.8/65.9 MB 18.2 MB/s eta 0:00:03\n",
      "     ------- ------------------------------- 13.1/65.9 MB 17.7 MB/s eta 0:00:03\n",
      "     -------- ------------------------------ 14.6/65.9 MB 18.2 MB/s eta 0:00:03\n",
      "     --------- ----------------------------- 15.5/65.9 MB 19.8 MB/s eta 0:00:03\n",
      "     --------- ----------------------------- 16.9/65.9 MB 20.5 MB/s eta 0:00:03\n",
      "     ---------- ---------------------------- 18.3/65.9 MB 20.5 MB/s eta 0:00:03\n",
      "     ----------- --------------------------- 19.5/65.9 MB 22.6 MB/s eta 0:00:03\n",
      "     ------------ -------------------------- 20.6/65.9 MB 21.8 MB/s eta 0:00:03\n",
      "     ------------ -------------------------- 21.8/65.9 MB 26.2 MB/s eta 0:00:02\n",
      "     ------------- ------------------------- 23.2/65.9 MB 26.2 MB/s eta 0:00:02\n",
      "     -------------- ------------------------ 24.6/65.9 MB 27.3 MB/s eta 0:00:02\n",
      "     --------------- ----------------------- 26.3/65.9 MB 28.4 MB/s eta 0:00:02\n",
      "     --------------- ----------------------- 26.6/65.9 MB 27.3 MB/s eta 0:00:02\n",
      "     ---------------- ---------------------- 28.5/65.9 MB 28.5 MB/s eta 0:00:02\n",
      "     ----------------- --------------------- 29.4/65.9 MB 27.3 MB/s eta 0:00:02\n",
      "     ------------------ -------------------- 31.0/65.9 MB 28.5 MB/s eta 0:00:02\n",
      "     ------------------- ------------------- 32.6/65.9 MB 29.7 MB/s eta 0:00:02\n",
      "     ------------------- ------------------- 33.7/65.9 MB 28.5 MB/s eta 0:00:02\n",
      "     --------------------- ----------------- 35.6/65.9 MB 29.7 MB/s eta 0:00:02\n",
      "     --------------------- ----------------- 36.5/65.9 MB 28.4 MB/s eta 0:00:02\n",
      "     ---------------------- ---------------- 38.5/65.9 MB 31.1 MB/s eta 0:00:01\n",
      "     ----------------------- --------------- 40.0/65.9 MB 32.8 MB/s eta 0:00:01\n",
      "     ------------------------ -------------- 41.9/65.9 MB 34.4 MB/s eta 0:00:01\n",
      "     ------------------------- ------------- 43.0/65.9 MB 32.8 MB/s eta 0:00:01\n",
      "     -------------------------- ------------ 44.8/65.9 MB 32.7 MB/s eta 0:00:01\n",
      "     --------------------------- ----------- 46.8/65.9 MB 38.5 MB/s eta 0:00:01\n",
      "     --------------------------- ----------- 47.1/65.9 MB 32.7 MB/s eta 0:00:01\n",
      "     ----------------------------- --------- 49.6/65.9 MB 36.3 MB/s eta 0:00:01\n",
      "     ------------------------------ -------- 51.6/65.9 MB 34.4 MB/s eta 0:00:01\n",
      "     ------------------------------ -------- 51.9/65.9 MB 31.2 MB/s eta 0:00:01\n",
      "     ------------------------------- ------- 52.8/65.9 MB 28.5 MB/s eta 0:00:01\n",
      "     -------------------------------- ------ 55.7/65.9 MB 32.8 MB/s eta 0:00:01\n",
      "     --------------------------------- ----- 57.0/65.9 MB 36.4 MB/s eta 0:00:01\n",
      "     ---------------------------------- ---- 59.1/65.9 MB 34.4 MB/s eta 0:00:01\n",
      "     ------------------------------------ -- 61.1/65.9 MB 34.4 MB/s eta 0:00:01\n",
      "     ------------------------------------ -- 62.2/65.9 MB 40.9 MB/s eta 0:00:01\n",
      "     ------------------------------------ -- 62.4/65.9 MB 36.3 MB/s eta 0:00:01\n",
      "     --------------------------------------  65.0/65.9 MB 34.6 MB/s eta 0:00:01\n",
      "     --------------------------------------  65.9/65.9 MB 36.4 MB/s eta 0:00:01\n",
      "     --------------------------------------  65.9/65.9 MB 36.4 MB/s eta 0:00:01\n",
      "     --------------------------------------- 65.9/65.9 MB 22.6 MB/s eta 0:00:00\n",
      "Installing collected packages: kaleido\n",
      "Successfully installed kaleido-0.2.1\n"
     ]
    }
   ],
   "source": [
    "!pip install -U kaleido"
   ],
   "metadata": {
    "collapsed": false,
    "ExecuteTime": {
     "start_time": "2023-05-14T13:24:46.640863Z",
     "end_time": "2023-05-14T13:24:55.323699Z"
    }
   }
  },
  {
   "cell_type": "code",
   "execution_count": null,
   "outputs": [],
   "source": [],
   "metadata": {
    "collapsed": false
   }
  }
 ],
 "metadata": {
  "kernelspec": {
   "display_name": "modernit",
   "language": "python",
   "name": "modernit"
  },
  "language_info": {
   "codemirror_mode": {
    "name": "ipython",
    "version": 3
   },
   "file_extension": ".py",
   "mimetype": "text/x-python",
   "name": "python",
   "nbconvert_exporter": "python",
   "pygments_lexer": "ipython3",
   "version": "3.8.16"
  }
 },
 "nbformat": 4,
 "nbformat_minor": 1
}
