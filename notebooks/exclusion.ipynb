{
 "cells": [
  {
   "cell_type": "code",
   "execution_count": 66,
   "metadata": {
    "ExecuteTime": {
     "end_time": "2023-05-01T16:58:58.674652Z",
     "start_time": "2023-05-01T16:58:58.643702Z"
    },
    "collapsed": true
   },
   "outputs": [],
   "source": [
    "import pandas as pd"
   ]
  },
  {
   "cell_type": "code",
   "execution_count": 67,
   "metadata": {
    "ExecuteTime": {
     "end_time": "2023-05-01T16:59:11.583587Z",
     "start_time": "2023-05-01T16:58:59.260769Z"
    }
   },
   "outputs": [
    {
     "name": "stderr",
     "output_type": "stream",
     "text": [
      "C:\\Users\\eythe\\AppData\\Local\\Temp\\ipykernel_21764\\3265378624.py:1: DtypeWarning: Columns (4) have mixed types. Specify dtype option on import or set low_memory=False.\n",
      "  drug = pd.read_csv(\"../data/eICU/infusiondrug.csv\")\n"
     ]
    }
   ],
   "source": [
    "drug = pd.read_csv(\"../data/eICU/infusiondrug.csv\")\n",
    "diagnosis = pd.read_csv(\"../data/eICU/diagnosis.csv\")\n",
    "patients_weight = pd.read_csv(\"../data/eICU/patient.csv\")[[\"patientunitstayid\", \"admissionweight\"]]\n",
    "patient = pd.read_csv(\"../data/eICU/patient.csv\")\n",
    "drug = drug.merge(patients_weight, on=\"patientunitstayid\")"
   ]
  },
  {
   "cell_type": "code",
   "execution_count": 68,
   "metadata": {
    "ExecuteTime": {
     "end_time": "2023-05-01T16:59:12.009696Z",
     "start_time": "2023-05-01T16:59:11.609234Z"
    }
   },
   "outputs": [],
   "source": [
    "# add hospitalID and unitType and wardID to the drug table corelated to patientunitstayid\n",
    "drug[\"hospitalid\"] = drug[\"patientunitstayid\"].map(patient.set_index(\"patientunitstayid\")[\"hospitalid\"])\n",
    "drug[\"unittype\"] = drug[\"patientunitstayid\"].map(patient.set_index(\"patientunitstayid\")[\"unittype\"])\n",
    "drug[\"wardid\"] = drug[\"patientunitstayid\"].map(patient.set_index(\"patientunitstayid\")[\"wardid\"])"
   ]
  },
  {
   "cell_type": "code",
   "execution_count": 69,
   "metadata": {
    "ExecuteTime": {
     "end_time": "2023-05-01T16:59:18.003430Z",
     "start_time": "2023-05-01T16:59:12.125587Z"
    }
   },
   "outputs": [],
   "source": [
    "# filter drug from NA in drugname, patientunitstayid, hospitalid, unittype, wardid\n",
    "drug = drug[~drug['drugname'].isna()]\n",
    "drug = drug[~drug['patientunitstayid'].isna()]\n",
    "drug = drug[~drug['hospitalid'].isna()]\n",
    "drug = drug[~drug['unittype'].isna()]\n",
    "drug = drug[~drug['wardid'].isna()]\n",
    "\n",
    "#filter drug to include only drugnames that start with \"Norepinephrine\"\n",
    "drug = drug[drug['drugname'].str.startswith(\"Norepinephrine\")]"
   ]
  },
  {
   "cell_type": "code",
   "execution_count": 70,
   "metadata": {
    "ExecuteTime": {
     "end_time": "2023-05-01T16:59:18.313402Z",
     "start_time": "2023-05-01T16:59:18.034667Z"
    }
   },
   "outputs": [
    {
     "data": {
      "text/html": [
       "<div>\n",
       "<style scoped>\n",
       "    .dataframe tbody tr th:only-of-type {\n",
       "        vertical-align: middle;\n",
       "    }\n",
       "\n",
       "    .dataframe tbody tr th {\n",
       "        vertical-align: top;\n",
       "    }\n",
       "\n",
       "    .dataframe thead th {\n",
       "        text-align: right;\n",
       "    }\n",
       "</style>\n",
       "<table border=\"1\" class=\"dataframe\">\n",
       "  <thead>\n",
       "    <tr style=\"text-align: right;\">\n",
       "      <th></th>\n",
       "      <th>infusiondrugid</th>\n",
       "      <th>patientunitstayid</th>\n",
       "      <th>infusionoffset</th>\n",
       "      <th>drugname</th>\n",
       "      <th>drugrate</th>\n",
       "      <th>infusionrate</th>\n",
       "      <th>drugamount</th>\n",
       "      <th>volumeoffluid</th>\n",
       "      <th>patientweight</th>\n",
       "      <th>admissionweight</th>\n",
       "      <th>hospitalid</th>\n",
       "      <th>unittype</th>\n",
       "      <th>wardid</th>\n",
       "    </tr>\n",
       "  </thead>\n",
       "  <tbody>\n",
       "    <tr>\n",
       "      <th>4</th>\n",
       "      <td>1969910</td>\n",
       "      <td>242082</td>\n",
       "      <td>55</td>\n",
       "      <td>Norepinephrine (mcg/min)</td>\n",
       "      <td>2.13</td>\n",
       "      <td>8.0</td>\n",
       "      <td>4.0</td>\n",
       "      <td>250.0</td>\n",
       "      <td>NaN</td>\n",
       "      <td>90.7</td>\n",
       "      <td>108</td>\n",
       "      <td>Med-Surg ICU</td>\n",
       "      <td>136</td>\n",
       "    </tr>\n",
       "    <tr>\n",
       "      <th>2</th>\n",
       "      <td>1968206</td>\n",
       "      <td>242082</td>\n",
       "      <td>125</td>\n",
       "      <td>Norepinephrine (mcg/min)</td>\n",
       "      <td>7</td>\n",
       "      <td>26.3</td>\n",
       "      <td>4.0</td>\n",
       "      <td>250.0</td>\n",
       "      <td>NaN</td>\n",
       "      <td>90.7</td>\n",
       "      <td>108</td>\n",
       "      <td>Med-Surg ICU</td>\n",
       "      <td>136</td>\n",
       "    </tr>\n",
       "    <tr>\n",
       "      <th>10</th>\n",
       "      <td>1985898</td>\n",
       "      <td>242082</td>\n",
       "      <td>230</td>\n",
       "      <td>Norepinephrine (mcg/min)</td>\n",
       "      <td>9.07</td>\n",
       "      <td>34.0</td>\n",
       "      <td>4.0</td>\n",
       "      <td>250.0</td>\n",
       "      <td>NaN</td>\n",
       "      <td>90.7</td>\n",
       "      <td>108</td>\n",
       "      <td>Med-Surg ICU</td>\n",
       "      <td>136</td>\n",
       "    </tr>\n",
       "    <tr>\n",
       "      <th>12</th>\n",
       "      <td>1972141</td>\n",
       "      <td>242082</td>\n",
       "      <td>275</td>\n",
       "      <td>Norepinephrine (mcg/min)</td>\n",
       "      <td>10</td>\n",
       "      <td>37.5</td>\n",
       "      <td>4.0</td>\n",
       "      <td>250.0</td>\n",
       "      <td>NaN</td>\n",
       "      <td>90.7</td>\n",
       "      <td>108</td>\n",
       "      <td>Med-Surg ICU</td>\n",
       "      <td>136</td>\n",
       "    </tr>\n",
       "    <tr>\n",
       "      <th>1</th>\n",
       "      <td>1998443</td>\n",
       "      <td>242082</td>\n",
       "      <td>425</td>\n",
       "      <td>Norepinephrine (mcg/min)</td>\n",
       "      <td>10.93</td>\n",
       "      <td>41.0</td>\n",
       "      <td>4.0</td>\n",
       "      <td>250.0</td>\n",
       "      <td>NaN</td>\n",
       "      <td>90.7</td>\n",
       "      <td>108</td>\n",
       "      <td>Med-Surg ICU</td>\n",
       "      <td>136</td>\n",
       "    </tr>\n",
       "    <tr>\n",
       "      <th>...</th>\n",
       "      <td>...</td>\n",
       "      <td>...</td>\n",
       "      <td>...</td>\n",
       "      <td>...</td>\n",
       "      <td>...</td>\n",
       "      <td>...</td>\n",
       "      <td>...</td>\n",
       "      <td>...</td>\n",
       "      <td>...</td>\n",
       "      <td>...</td>\n",
       "      <td>...</td>\n",
       "      <td>...</td>\n",
       "      <td>...</td>\n",
       "    </tr>\n",
       "    <tr>\n",
       "      <th>4803535</th>\n",
       "      <td>75122092</td>\n",
       "      <td>3353251</td>\n",
       "      <td>3823</td>\n",
       "      <td>Norepinephrine MAX 32 mg Dextrose 5% 250 ml (m...</td>\n",
       "      <td>15</td>\n",
       "      <td>NaN</td>\n",
       "      <td>NaN</td>\n",
       "      <td>NaN</td>\n",
       "      <td>NaN</td>\n",
       "      <td>102.0</td>\n",
       "      <td>458</td>\n",
       "      <td>Cardiac ICU</td>\n",
       "      <td>1104</td>\n",
       "    </tr>\n",
       "    <tr>\n",
       "      <th>4803681</th>\n",
       "      <td>75308975</td>\n",
       "      <td>3353251</td>\n",
       "      <td>3968</td>\n",
       "      <td>Norepinephrine MAX 32 mg Dextrose 5% 250 ml (m...</td>\n",
       "      <td>16</td>\n",
       "      <td>NaN</td>\n",
       "      <td>NaN</td>\n",
       "      <td>NaN</td>\n",
       "      <td>NaN</td>\n",
       "      <td>102.0</td>\n",
       "      <td>458</td>\n",
       "      <td>Cardiac ICU</td>\n",
       "      <td>1104</td>\n",
       "    </tr>\n",
       "    <tr>\n",
       "      <th>4803654</th>\n",
       "      <td>75246300</td>\n",
       "      <td>3353251</td>\n",
       "      <td>4043</td>\n",
       "      <td>Norepinephrine MAX 32 mg Dextrose 5% 250 ml (m...</td>\n",
       "      <td>12</td>\n",
       "      <td>NaN</td>\n",
       "      <td>NaN</td>\n",
       "      <td>NaN</td>\n",
       "      <td>NaN</td>\n",
       "      <td>102.0</td>\n",
       "      <td>458</td>\n",
       "      <td>Cardiac ICU</td>\n",
       "      <td>1104</td>\n",
       "    </tr>\n",
       "    <tr>\n",
       "      <th>4803592</th>\n",
       "      <td>75148203</td>\n",
       "      <td>3353251</td>\n",
       "      <td>4358</td>\n",
       "      <td>Norepinephrine MAX 32 mg Dextrose 5% 250 ml (m...</td>\n",
       "      <td>10</td>\n",
       "      <td>NaN</td>\n",
       "      <td>NaN</td>\n",
       "      <td>NaN</td>\n",
       "      <td>NaN</td>\n",
       "      <td>102.0</td>\n",
       "      <td>458</td>\n",
       "      <td>Cardiac ICU</td>\n",
       "      <td>1104</td>\n",
       "    </tr>\n",
       "    <tr>\n",
       "      <th>4803657</th>\n",
       "      <td>75215992</td>\n",
       "      <td>3353251</td>\n",
       "      <td>4592</td>\n",
       "      <td>Norepinephrine MAX 32 mg Dextrose 5% 250 ml (m...</td>\n",
       "      <td>8</td>\n",
       "      <td>NaN</td>\n",
       "      <td>NaN</td>\n",
       "      <td>NaN</td>\n",
       "      <td>NaN</td>\n",
       "      <td>102.0</td>\n",
       "      <td>458</td>\n",
       "      <td>Cardiac ICU</td>\n",
       "      <td>1104</td>\n",
       "    </tr>\n",
       "  </tbody>\n",
       "</table>\n",
       "<p>565396 rows × 13 columns</p>\n",
       "</div>"
      ],
      "text/plain": [
       "         infusiondrugid  patientunitstayid  infusionoffset   \n",
       "4               1969910             242082              55  \\\n",
       "2               1968206             242082             125   \n",
       "10              1985898             242082             230   \n",
       "12              1972141             242082             275   \n",
       "1               1998443             242082             425   \n",
       "...                 ...                ...             ...   \n",
       "4803535        75122092            3353251            3823   \n",
       "4803681        75308975            3353251            3968   \n",
       "4803654        75246300            3353251            4043   \n",
       "4803592        75148203            3353251            4358   \n",
       "4803657        75215992            3353251            4592   \n",
       "\n",
       "                                                  drugname drugrate   \n",
       "4                                 Norepinephrine (mcg/min)     2.13  \\\n",
       "2                                 Norepinephrine (mcg/min)        7   \n",
       "10                                Norepinephrine (mcg/min)     9.07   \n",
       "12                                Norepinephrine (mcg/min)       10   \n",
       "1                                 Norepinephrine (mcg/min)    10.93   \n",
       "...                                                    ...      ...   \n",
       "4803535  Norepinephrine MAX 32 mg Dextrose 5% 250 ml (m...       15   \n",
       "4803681  Norepinephrine MAX 32 mg Dextrose 5% 250 ml (m...       16   \n",
       "4803654  Norepinephrine MAX 32 mg Dextrose 5% 250 ml (m...       12   \n",
       "4803592  Norepinephrine MAX 32 mg Dextrose 5% 250 ml (m...       10   \n",
       "4803657  Norepinephrine MAX 32 mg Dextrose 5% 250 ml (m...        8   \n",
       "\n",
       "         infusionrate  drugamount  volumeoffluid  patientweight   \n",
       "4                 8.0         4.0          250.0            NaN  \\\n",
       "2                26.3         4.0          250.0            NaN   \n",
       "10               34.0         4.0          250.0            NaN   \n",
       "12               37.5         4.0          250.0            NaN   \n",
       "1                41.0         4.0          250.0            NaN   \n",
       "...               ...         ...            ...            ...   \n",
       "4803535           NaN         NaN            NaN            NaN   \n",
       "4803681           NaN         NaN            NaN            NaN   \n",
       "4803654           NaN         NaN            NaN            NaN   \n",
       "4803592           NaN         NaN            NaN            NaN   \n",
       "4803657           NaN         NaN            NaN            NaN   \n",
       "\n",
       "         admissionweight  hospitalid      unittype  wardid  \n",
       "4                   90.7         108  Med-Surg ICU     136  \n",
       "2                   90.7         108  Med-Surg ICU     136  \n",
       "10                  90.7         108  Med-Surg ICU     136  \n",
       "12                  90.7         108  Med-Surg ICU     136  \n",
       "1                   90.7         108  Med-Surg ICU     136  \n",
       "...                  ...         ...           ...     ...  \n",
       "4803535            102.0         458   Cardiac ICU    1104  \n",
       "4803681            102.0         458   Cardiac ICU    1104  \n",
       "4803654            102.0         458   Cardiac ICU    1104  \n",
       "4803592            102.0         458   Cardiac ICU    1104  \n",
       "4803657            102.0         458   Cardiac ICU    1104  \n",
       "\n",
       "[565396 rows x 13 columns]"
      ]
     },
     "execution_count": 70,
     "metadata": {},
     "output_type": "execute_result"
    }
   ],
   "source": [
    "# sort drug by patientunitstayid and drugstartoffset\n",
    "drug = drug.sort_values(by=[\"patientunitstayid\", \"infusionoffset\"])\n",
    "drug"
   ]
  },
  {
   "cell_type": "code",
   "execution_count": 9,
   "metadata": {
    "ExecuteTime": {
     "end_time": "2023-05-01T16:21:22.040828Z",
     "start_time": "2023-05-01T16:21:21.687415Z"
    }
   },
   "outputs": [
    {
     "data": {
      "text/plain": [
       "hospitalid  unittype    \n",
       "342         Med-Surg ICU      1\n",
       "151         Med-Surg ICU      1\n",
       "265         MICU              1\n",
       "156         Med-Surg ICU      1\n",
       "438         Med-Surg ICU      1\n",
       "                           ... \n",
       "157         Med-Surg ICU    375\n",
       "167         Med-Surg ICU    384\n",
       "188         MICU            430\n",
       "300         Med-Surg ICU    452\n",
       "199         Med-Surg ICU    525\n",
       "Name: patientunitstayid, Length: 195, dtype: int64"
      ]
     },
     "execution_count": 9,
     "metadata": {},
     "output_type": "execute_result"
    }
   ],
   "source": [
    "drug.groupby([\"hospitalid\", \"unittype\"])[\"patientunitstayid\"].nunique().sort_values()"
   ]
  },
  {
   "cell_type": "code",
   "execution_count": 114,
   "metadata": {
    "ExecuteTime": {
     "end_time": "2023-05-01T17:19:24.838978Z",
     "start_time": "2023-05-01T17:19:14.723083Z"
    }
   },
   "outputs": [
    {
     "ename": "ValueError",
     "evalue": "The truth value of a DataFrame is ambiguous. Use a.empty, a.bool(), a.item(), a.any() or a.all().",
     "output_type": "error",
     "traceback": [
      "\u001B[1;31m---------------------------------------------------------------------------\u001B[0m",
      "\u001B[1;31mValueError\u001B[0m                                Traceback (most recent call last)",
      "Cell \u001B[1;32mIn[114], line 12\u001B[0m\n\u001B[0;32m     10\u001B[0m bp[\u001B[38;5;124m\"\u001B[39m\u001B[38;5;124mwardid\u001B[39m\u001B[38;5;124m\"\u001B[39m] \u001B[38;5;241m=\u001B[39m bp[\u001B[38;5;124m\"\u001B[39m\u001B[38;5;124mstay_id\u001B[39m\u001B[38;5;124m\"\u001B[39m]\u001B[38;5;241m.\u001B[39mmap(patient\u001B[38;5;241m.\u001B[39mset_index(\u001B[38;5;124m\"\u001B[39m\u001B[38;5;124mpatientunitstayid\u001B[39m\u001B[38;5;124m\"\u001B[39m)[\u001B[38;5;124m\"\u001B[39m\u001B[38;5;124mwardid\u001B[39m\u001B[38;5;124m\"\u001B[39m])\n\u001B[0;32m     11\u001B[0m \u001B[38;5;66;03m# create a new column for the number of patients per hospital\u001B[39;00m\n\u001B[1;32m---> 12\u001B[0m bp[\u001B[38;5;124m\"\u001B[39m\u001B[38;5;124mpat_per_hos\u001B[39m\u001B[38;5;124m\"\u001B[39m] \u001B[38;5;241m=\u001B[39m \u001B[43mbp\u001B[49m\u001B[43m[\u001B[49m\u001B[38;5;124;43m\"\u001B[39;49m\u001B[38;5;124;43mhospitalid\u001B[39;49m\u001B[38;5;124;43m\"\u001B[39;49m\u001B[43m]\u001B[49m\u001B[38;5;241;43m.\u001B[39;49m\u001B[43mmap\u001B[49m\u001B[43m(\u001B[49m\u001B[43mbp\u001B[49m\u001B[38;5;241;43m.\u001B[39;49m\u001B[43mgroupby\u001B[49m\u001B[43m(\u001B[49m\u001B[43m[\u001B[49m\u001B[38;5;124;43m\"\u001B[39;49m\u001B[38;5;124;43mhospitalid\u001B[39;49m\u001B[38;5;124;43m\"\u001B[39;49m\u001B[43m]\u001B[49m\u001B[43m)\u001B[49m\u001B[38;5;241;43m.\u001B[39;49m\u001B[43magg\u001B[49m\u001B[43m(\u001B[49m\u001B[43m{\u001B[49m\u001B[38;5;124;43m\"\u001B[39;49m\u001B[38;5;124;43mstay_id\u001B[39;49m\u001B[38;5;124;43m\"\u001B[39;49m\u001B[43m:\u001B[49m\u001B[43m \u001B[49m\u001B[43m[\u001B[49m\u001B[38;5;124;43m\"\u001B[39;49m\u001B[38;5;124;43mnunique\u001B[39;49m\u001B[38;5;124;43m\"\u001B[39;49m\u001B[43m]\u001B[49m\u001B[43m}\u001B[49m\u001B[43m)\u001B[49m\u001B[38;5;241;43m.\u001B[39;49m\u001B[43msort_values\u001B[49m\u001B[43m(\u001B[49m\u001B[43mby\u001B[49m\u001B[38;5;241;43m=\u001B[39;49m\u001B[43m(\u001B[49m\u001B[38;5;124;43m\"\u001B[39;49m\u001B[38;5;124;43mstay_id\u001B[39;49m\u001B[38;5;124;43m\"\u001B[39;49m\u001B[43m,\u001B[49m\u001B[43m \u001B[49m\u001B[38;5;124;43m\"\u001B[39;49m\u001B[38;5;124;43mnunique\u001B[39;49m\u001B[38;5;124;43m\"\u001B[39;49m\u001B[43m)\u001B[49m\u001B[43m)\u001B[49m\u001B[43m)\u001B[49m\n",
      "File \u001B[1;32m~\\anaconda3\\envs\\modernit\\lib\\site-packages\\pandas\\core\\series.py:4398\u001B[0m, in \u001B[0;36mSeries.map\u001B[1;34m(self, arg, na_action)\u001B[0m\n\u001B[0;32m   4319\u001B[0m \u001B[38;5;28;01mdef\u001B[39;00m \u001B[38;5;21mmap\u001B[39m(\n\u001B[0;32m   4320\u001B[0m     \u001B[38;5;28mself\u001B[39m,\n\u001B[0;32m   4321\u001B[0m     arg: Callable \u001B[38;5;241m|\u001B[39m Mapping \u001B[38;5;241m|\u001B[39m Series,\n\u001B[0;32m   4322\u001B[0m     na_action: Literal[\u001B[38;5;124m\"\u001B[39m\u001B[38;5;124mignore\u001B[39m\u001B[38;5;124m\"\u001B[39m] \u001B[38;5;241m|\u001B[39m \u001B[38;5;28;01mNone\u001B[39;00m \u001B[38;5;241m=\u001B[39m \u001B[38;5;28;01mNone\u001B[39;00m,\n\u001B[0;32m   4323\u001B[0m ) \u001B[38;5;241m-\u001B[39m\u001B[38;5;241m>\u001B[39m Series:\n\u001B[0;32m   4324\u001B[0m     \u001B[38;5;124;03m\"\"\"\u001B[39;00m\n\u001B[0;32m   4325\u001B[0m \u001B[38;5;124;03m    Map values of Series according to an input mapping or function.\u001B[39;00m\n\u001B[0;32m   4326\u001B[0m \n\u001B[1;32m   (...)\u001B[0m\n\u001B[0;32m   4396\u001B[0m \u001B[38;5;124;03m    dtype: object\u001B[39;00m\n\u001B[0;32m   4397\u001B[0m \u001B[38;5;124;03m    \"\"\"\u001B[39;00m\n\u001B[1;32m-> 4398\u001B[0m     new_values \u001B[38;5;241m=\u001B[39m \u001B[38;5;28;43mself\u001B[39;49m\u001B[38;5;241;43m.\u001B[39;49m\u001B[43m_map_values\u001B[49m\u001B[43m(\u001B[49m\u001B[43marg\u001B[49m\u001B[43m,\u001B[49m\u001B[43m \u001B[49m\u001B[43mna_action\u001B[49m\u001B[38;5;241;43m=\u001B[39;49m\u001B[43mna_action\u001B[49m\u001B[43m)\u001B[49m\n\u001B[0;32m   4399\u001B[0m     \u001B[38;5;28;01mreturn\u001B[39;00m \u001B[38;5;28mself\u001B[39m\u001B[38;5;241m.\u001B[39m_constructor(new_values, index\u001B[38;5;241m=\u001B[39m\u001B[38;5;28mself\u001B[39m\u001B[38;5;241m.\u001B[39mindex, copy\u001B[38;5;241m=\u001B[39m\u001B[38;5;28;01mFalse\u001B[39;00m)\u001B[38;5;241m.\u001B[39m__finalize__(\n\u001B[0;32m   4400\u001B[0m         \u001B[38;5;28mself\u001B[39m, method\u001B[38;5;241m=\u001B[39m\u001B[38;5;124m\"\u001B[39m\u001B[38;5;124mmap\u001B[39m\u001B[38;5;124m\"\u001B[39m\n\u001B[0;32m   4401\u001B[0m     )\n",
      "File \u001B[1;32m~\\anaconda3\\envs\\modernit\\lib\\site-packages\\pandas\\core\\base.py:872\u001B[0m, in \u001B[0;36mIndexOpsMixin._map_values\u001B[1;34m(self, mapper, na_action)\u001B[0m\n\u001B[0;32m    870\u001B[0m             mapper \u001B[38;5;241m=\u001B[39m Series(mapper, dtype\u001B[38;5;241m=\u001B[39mnp\u001B[38;5;241m.\u001B[39mfloat64)\n\u001B[0;32m    871\u001B[0m         \u001B[38;5;28;01melse\u001B[39;00m:\n\u001B[1;32m--> 872\u001B[0m             mapper \u001B[38;5;241m=\u001B[39m \u001B[43mSeries\u001B[49m\u001B[43m(\u001B[49m\u001B[43mmapper\u001B[49m\u001B[43m)\u001B[49m\n\u001B[0;32m    874\u001B[0m \u001B[38;5;28;01mif\u001B[39;00m \u001B[38;5;28misinstance\u001B[39m(mapper, ABCSeries):\n\u001B[0;32m    875\u001B[0m     \u001B[38;5;28;01mif\u001B[39;00m na_action \u001B[38;5;129;01mnot\u001B[39;00m \u001B[38;5;129;01min\u001B[39;00m (\u001B[38;5;28;01mNone\u001B[39;00m, \u001B[38;5;124m\"\u001B[39m\u001B[38;5;124mignore\u001B[39m\u001B[38;5;124m\"\u001B[39m):\n",
      "File \u001B[1;32m~\\anaconda3\\envs\\modernit\\lib\\site-packages\\pandas\\core\\series.py:472\u001B[0m, in \u001B[0;36mSeries.__init__\u001B[1;34m(self, data, index, dtype, name, copy, fastpath)\u001B[0m\n\u001B[0;32m    470\u001B[0m         data \u001B[38;5;241m=\u001B[39m data\u001B[38;5;241m.\u001B[39m_mgr\n\u001B[0;32m    471\u001B[0m \u001B[38;5;28;01melif\u001B[39;00m is_dict_like(data):\n\u001B[1;32m--> 472\u001B[0m     data, index \u001B[38;5;241m=\u001B[39m \u001B[38;5;28;43mself\u001B[39;49m\u001B[38;5;241;43m.\u001B[39;49m\u001B[43m_init_dict\u001B[49m\u001B[43m(\u001B[49m\u001B[43mdata\u001B[49m\u001B[43m,\u001B[49m\u001B[43m \u001B[49m\u001B[43mindex\u001B[49m\u001B[43m,\u001B[49m\u001B[43m \u001B[49m\u001B[43mdtype\u001B[49m\u001B[43m)\u001B[49m\n\u001B[0;32m    473\u001B[0m     dtype \u001B[38;5;241m=\u001B[39m \u001B[38;5;28;01mNone\u001B[39;00m\n\u001B[0;32m    474\u001B[0m     copy \u001B[38;5;241m=\u001B[39m \u001B[38;5;28;01mFalse\u001B[39;00m\n",
      "File \u001B[1;32m~\\anaconda3\\envs\\modernit\\lib\\site-packages\\pandas\\core\\series.py:546\u001B[0m, in \u001B[0;36mSeries._init_dict\u001B[1;34m(self, data, index, dtype)\u001B[0m\n\u001B[0;32m    542\u001B[0m keys: Index \u001B[38;5;241m|\u001B[39m \u001B[38;5;28mtuple\u001B[39m\n\u001B[0;32m    544\u001B[0m \u001B[38;5;66;03m# Looking for NaN in dict doesn't work ({np.nan : 1}[float('nan')]\u001B[39;00m\n\u001B[0;32m    545\u001B[0m \u001B[38;5;66;03m# raises KeyError), so we iterate the entire dict, and align\u001B[39;00m\n\u001B[1;32m--> 546\u001B[0m \u001B[38;5;28;01mif\u001B[39;00m data:\n\u001B[0;32m    547\u001B[0m     \u001B[38;5;66;03m# GH:34717, issue was using zip to extract key and values from data.\u001B[39;00m\n\u001B[0;32m    548\u001B[0m     \u001B[38;5;66;03m# using generators in effects the performance.\u001B[39;00m\n\u001B[0;32m    549\u001B[0m     \u001B[38;5;66;03m# Below is the new way of extracting the keys and values\u001B[39;00m\n\u001B[0;32m    551\u001B[0m     keys \u001B[38;5;241m=\u001B[39m \u001B[38;5;28mtuple\u001B[39m(data\u001B[38;5;241m.\u001B[39mkeys())\n\u001B[0;32m    552\u001B[0m     values \u001B[38;5;241m=\u001B[39m \u001B[38;5;28mlist\u001B[39m(data\u001B[38;5;241m.\u001B[39mvalues())  \u001B[38;5;66;03m# Generating list of values- faster way\u001B[39;00m\n",
      "File \u001B[1;32m~\\anaconda3\\envs\\modernit\\lib\\site-packages\\pandas\\core\\generic.py:1466\u001B[0m, in \u001B[0;36mNDFrame.__nonzero__\u001B[1;34m(self)\u001B[0m\n\u001B[0;32m   1464\u001B[0m \u001B[38;5;129m@final\u001B[39m\n\u001B[0;32m   1465\u001B[0m \u001B[38;5;28;01mdef\u001B[39;00m \u001B[38;5;21m__nonzero__\u001B[39m(\u001B[38;5;28mself\u001B[39m) \u001B[38;5;241m-\u001B[39m\u001B[38;5;241m>\u001B[39m NoReturn:\n\u001B[1;32m-> 1466\u001B[0m     \u001B[38;5;28;01mraise\u001B[39;00m \u001B[38;5;167;01mValueError\u001B[39;00m(\n\u001B[0;32m   1467\u001B[0m         \u001B[38;5;124mf\u001B[39m\u001B[38;5;124m\"\u001B[39m\u001B[38;5;124mThe truth value of a \u001B[39m\u001B[38;5;132;01m{\u001B[39;00m\u001B[38;5;28mtype\u001B[39m(\u001B[38;5;28mself\u001B[39m)\u001B[38;5;241m.\u001B[39m\u001B[38;5;18m__name__\u001B[39m\u001B[38;5;132;01m}\u001B[39;00m\u001B[38;5;124m is ambiguous. \u001B[39m\u001B[38;5;124m\"\u001B[39m\n\u001B[0;32m   1468\u001B[0m         \u001B[38;5;124m\"\u001B[39m\u001B[38;5;124mUse a.empty, a.bool(), a.item(), a.any() or a.all().\u001B[39m\u001B[38;5;124m\"\u001B[39m\n\u001B[0;32m   1469\u001B[0m     )\n",
      "\u001B[1;31mValueError\u001B[0m: The truth value of a DataFrame is ambiguous. Use a.empty, a.bool(), a.item(), a.any() or a.all()."
     ]
    }
   ],
   "source": [
    "bp = pd.read_csv(\"../preprocess/filtered_bp_eicu.csv\")\n",
    "bp = bp.sort_values(by=[\"stay_id\", \"cur_bp_time\"])\n",
    "bp = bp[bp[\"stay_id\"].isin(drug[\"patientunitstayid\"])]\n",
    "bp[\"next_bp_time\"] = bp.groupby(\"stay_id\")[\"cur_bp_time\"].shift(-1)\n",
    "bp[\"interval\"] = bp[\"next_bp_time\"] - bp[\"cur_bp_time\"]\n",
    "drug[\"drugrate\"] = pd.to_numeric(drug[\"drugrate\"], errors='coerce')\n",
    "bp[\"age\"] = pd.to_numeric(bp[\"stay_id\"].map(patient.set_index(\"patientunitstayid\")[\"age\"]), errors='coerce')\n",
    "bp[\"hospitalid\"] = bp[\"stay_id\"].map(patient.set_index(\"patientunitstayid\")[\"hospitalid\"])\n",
    "bp[\"unittype\"] = bp[\"stay_id\"].map(patient.set_index(\"patientunitstayid\")[\"unittype\"])\n",
    "bp[\"wardid\"] = bp[\"stay_id\"].map(patient.set_index(\"patientunitstayid\")[\"wardid\"])\n",
    "# create a new column for the number of patients per hospital\n",
    "bp[\"pat_per_hos\"] = bp[\"hospitalid\"].map(bp.groupby([\"hospitalid\"]).agg({\"stay_id\": [\"nunique\"]}).sort_values(by=(\"stay_id\", \"nunique\")))\n"
   ]
  },
  {
   "cell_type": "code",
   "execution_count": 112,
   "metadata": {
    "ExecuteTime": {
     "start_time": "2023-05-01T17:27:55.497367Z",
     "end_time": "2023-05-01T17:27:55.969006Z"
    }
   },
   "outputs": [
    {
     "data": {
      "text/plain": "           stay_id\n           nunique\nhospitalid        \n279              1\n422              1\n174              1\n404              1\n182              1\n...            ...\n157            155\n148            156\n176            199\n167            238\n420            342\n\n[111 rows x 1 columns]",
      "text/html": "<div>\n<style scoped>\n    .dataframe tbody tr th:only-of-type {\n        vertical-align: middle;\n    }\n\n    .dataframe tbody tr th {\n        vertical-align: top;\n    }\n\n    .dataframe thead tr th {\n        text-align: left;\n    }\n\n    .dataframe thead tr:last-of-type th {\n        text-align: right;\n    }\n</style>\n<table border=\"1\" class=\"dataframe\">\n  <thead>\n    <tr>\n      <th></th>\n      <th>stay_id</th>\n    </tr>\n    <tr>\n      <th></th>\n      <th>nunique</th>\n    </tr>\n    <tr>\n      <th>hospitalid</th>\n      <th></th>\n    </tr>\n  </thead>\n  <tbody>\n    <tr>\n      <th>279</th>\n      <td>1</td>\n    </tr>\n    <tr>\n      <th>422</th>\n      <td>1</td>\n    </tr>\n    <tr>\n      <th>174</th>\n      <td>1</td>\n    </tr>\n    <tr>\n      <th>404</th>\n      <td>1</td>\n    </tr>\n    <tr>\n      <th>182</th>\n      <td>1</td>\n    </tr>\n    <tr>\n      <th>...</th>\n      <td>...</td>\n    </tr>\n    <tr>\n      <th>157</th>\n      <td>155</td>\n    </tr>\n    <tr>\n      <th>148</th>\n      <td>156</td>\n    </tr>\n    <tr>\n      <th>176</th>\n      <td>199</td>\n    </tr>\n    <tr>\n      <th>167</th>\n      <td>238</td>\n    </tr>\n    <tr>\n      <th>420</th>\n      <td>342</td>\n    </tr>\n  </tbody>\n</table>\n<p>111 rows × 1 columns</p>\n</div>"
     },
     "execution_count": 112,
     "metadata": {},
     "output_type": "execute_result"
    }
   ],
   "source": [
    "# find the number of patients per hospital\n",
    "bp.groupby([\"hospitalid\"]).agg({\"stay_id\": [\"nunique\"]}).sort_values(by=(\"stay_id\", \"nunique\"))\n"
   ]
  },
  {
   "cell_type": "code",
   "execution_count": null,
   "metadata": {},
   "outputs": [],
   "source": [
    "bp[\"pat_per_hos\"]"
   ]
  },
  {
   "cell_type": "code",
   "execution_count": 44,
   "metadata": {
    "ExecuteTime": {
     "end_time": "2023-05-01T16:45:06.391838Z",
     "start_time": "2023-05-01T16:45:05.689385Z"
    }
   },
   "outputs": [],
   "source": [
    "# give me a table of hospitals, wardid and number of patients per hospital\n",
    "bp_hospital = bp.groupby(['hospitalid']).agg({'stay_id': ['nunique']})"
   ]
  },
  {
   "cell_type": "code",
   "execution_count": 62,
   "metadata": {
    "ExecuteTime": {
     "end_time": "2023-05-01T16:55:28.563977Z",
     "start_time": "2023-05-01T16:55:28.511198Z"
    }
   },
   "outputs": [
    {
     "data": {
      "text/plain": [
       "array([ 243334,  243643,  244256, ..., 3352721, 3353144, 3353251],\n",
       "      dtype=int64)"
      ]
     },
     "execution_count": 62,
     "metadata": {},
     "output_type": "execute_result"
    }
   ],
   "source": [
    "bp[\"stay_id\"].unique()"
   ]
  },
  {
   "cell_type": "code",
   "execution_count": 28,
   "metadata": {
    "ExecuteTime": {
     "end_time": "2023-05-01T16:41:10.542311Z",
     "start_time": "2023-05-01T16:41:10.479263Z"
    }
   },
   "outputs": [
    {
     "name": "stdout",
     "output_type": "stream",
     "text": [
      "Number of patients in the dataset: 2274\n",
      "Number of hospitals in the dataset: 23\n",
      "Number of patients per hospital in the dataset: [ 45 199 144 238 156 155 120  44 138 114 133  80  23   2   3   1  63  38\n",
      " 342  76  37]\n"
     ]
    }
   ],
   "source": [
    "print(f'Number of patients in the dataset: {bp_big[\"stay_id\"].nunique()}')\n",
    "print(f'Number of hospitals in the dataset: {bp_big[\"hospitalid\"].nunique()}')\n",
    "print(f'Number of patients per hospital in the dataset: {bp_big[\"pat_per_hos\"].unique()}')"
   ]
  },
  {
   "cell_type": "code",
   "execution_count": null,
   "metadata": {},
   "outputs": [],
   "source": []
  }
 ],
 "metadata": {
  "kernelspec": {
   "display_name": "modernit",
   "language": "python",
   "name": "modernit"
  },
  "language_info": {
   "codemirror_mode": {
    "name": "ipython",
    "version": 3
   },
   "file_extension": ".py",
   "mimetype": "text/x-python",
   "name": "python",
   "nbconvert_exporter": "python",
   "pygments_lexer": "ipython3",
   "version": "3.8.16"
  }
 },
 "nbformat": 4,
 "nbformat_minor": 1
}
