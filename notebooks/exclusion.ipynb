{
 "cells": [
  {
   "cell_type": "code",
   "execution_count": 28,
   "metadata": {
    "ExecuteTime": {
     "end_time": "2023-05-14T13:18:54.619517Z",
     "start_time": "2023-05-14T13:18:52.463551Z"
    }
   },
   "outputs": [],
   "source": [
    "import pandas as pd\n",
    "import plotly.graph_objects as go\n",
    "from plotly.subplots import make_subplots\n",
    "import numpy as np"
   ]
  },
  {
   "cell_type": "code",
   "execution_count": 3,
   "metadata": {
    "ExecuteTime": {
     "end_time": "2023-05-14T13:19:27.998999Z",
     "start_time": "2023-05-14T13:19:17.094022Z"
    }
   },
   "outputs": [],
   "source": [
    "def load_drug(drug_path, patient):\n",
    "    drug = pd.read_csv(drug_path)\n",
    "    patients_weight = patient[[\"patientunitstayid\", \"admissionweight\"]]\n",
    "    drug = drug.merge(patients_weight, on=\"patientunitstayid\")\n",
    "    # add hospitalID and unitType and wardID to the drug table corelated to patientunitstayid\n",
    "    drug[\"hospitalid\"] = drug[\"patientunitstayid\"].map(patient.set_index(\"patientunitstayid\")[\"hospitalid\"])\n",
    "    drug[\"unittype\"] = drug[\"patientunitstayid\"].map(patient.set_index(\"patientunitstayid\")[\"unittype\"])\n",
    "    drug[\"wardid\"] = drug[\"patientunitstayid\"].map(patient.set_index(\"patientunitstayid\")[\"wardid\"])\n",
    "    # filter drug from NA in drugname, patientunitstayid, hospitalid, unittype, wardid\n",
    "    drug = drug[~drug['drugname'].isna()]\n",
    "    drug = drug[~drug['patientunitstayid'].isna()]\n",
    "    drug = drug[~drug['hospitalid'].isna()]\n",
    "    drug = drug[~drug['unittype'].isna()]\n",
    "    drug = drug[~drug['wardid'].isna()]\n",
    "\n",
    "    #filter drugs with other drug names\n",
    "    other_drugs = drug[drug['drugname'].str.startswith((\"Epinephrine\", \"Dopamine\", \"Vesopressin\"))]\n",
    "\n",
    "    #filter drug to include only drugnames that start with \"Norepinephrine\"\n",
    "    drug = drug[drug['drugname'].str.startswith(\"Norepinephrine\")]\n",
    "\n",
    "    #remove patients who recieved other vasopressors\n",
    "    drug = drug[~drug['patientunitstayid'].isin(other_drugs['patientunitstayid'])]\n",
    "    # sort drug by patientunitstayid and drugstartoffset\n",
    "    drug = drug.sort_values(by=[\"patientunitstayid\", \"infusionoffset\"])\n",
    "    return drug"
   ]
  },
  {
   "cell_type": "code",
   "execution_count": 4,
   "metadata": {
    "ExecuteTime": {
     "end_time": "2023-05-14T13:20:52.054468Z",
     "start_time": "2023-05-14T13:20:44.395405Z"
    }
   },
   "outputs": [],
   "source": [
    "def load_bp(bp_path, drug,patient):\n",
    "    bp = pd.read_csv(\"../preprocess/filtered_bp_eicu.csv\")\n",
    "    bp = bp.sort_values(by=[\"stay_id\", \"cur_bp_time\"])\n",
    "    bp = bp[bp[\"stay_id\"].isin(drug[\"patientunitstayid\"])]\n",
    "    bp[\"next_bp_time\"] = bp.groupby(\"stay_id\")[\"cur_bp_time\"].shift(-1)\n",
    "    bp[\"interval\"] = bp[\"next_bp_time\"] - bp[\"cur_bp_time\"]\n",
    "    drug[\"drugrate\"] = pd.to_numeric(drug[\"drugrate\"], errors='coerce')\n",
    "    bp[\"age\"] = pd.to_numeric(bp[\"stay_id\"].map(patient.set_index(\"patientunitstayid\")[\"age\"]), errors='coerce')\n",
    "    bp[\"hospitalid\"] = bp[\"stay_id\"].map(patient.set_index(\"patientunitstayid\")[\"hospitalid\"])\n",
    "    bp[\"unittype\"] = bp[\"stay_id\"].map(patient.set_index(\"patientunitstayid\")[\"unittype\"])\n",
    "    bp[\"wardid\"] = bp[\"stay_id\"].map(patient.set_index(\"patientunitstayid\")[\"wardid\"])\n",
    "    # create a new column for the number of patients per hospital\n",
    "    # bp[\"pat_per_hos\"] = bp[\"hospitalid\"].map(bp.groupby([\"hospitalid\"]).agg({\"stay_id\": [\"nunique\"]}).sort_values(by=(\"stay_id\", \"nunique\")))\n",
    "    pat_per_hos = bp.groupby([\"hospitalid\"]).agg({\"stay_id\": [\"nunique\"]}).sort_values(by=(\"stay_id\", \"nunique\"))\n",
    "    bp[\"pat_per_hos\"] = bp[\"hospitalid\"].map(pat_per_hos[(\"stay_id\", \"nunique\")])  \n",
    "    return bp\n"
   ]
  },
  {
   "cell_type": "code",
   "execution_count": 5,
   "metadata": {
    "ExecuteTime": {
     "end_time": "2023-05-14T13:20:55.306933Z",
     "start_time": "2023-05-14T13:20:55.067553Z"
    }
   },
   "outputs": [],
   "source": [
    "def load_data(drug_path, patient_path, diagnosis_path, bp_path):\n",
    "    patient = pd.read_csv(\"../data/eICU/patient.csv\")\n",
    "    drug = load_drug(\"../data/eICU/infusiondrug.csv\", patient)\n",
    "    diagnosis = pd.read_csv(\"../data/eICU/diagnosis.csv\")\n",
    "    bp = load_bp(\"../preprocess/filtered_bp_eicu.csv\", drug, patient)\n",
    "    return drug, diagnosis, patient, bp"
   ]
  },
  {
   "cell_type": "code",
   "execution_count": 6,
   "metadata": {},
   "outputs": [],
   "source": [
    "# create a plot of bp over time for each patient using plotly subplot and add to each patient plot the norepinephrine infusion from drug table as scatter plot\n",
    "def bp_and_nor_over_time(n_patients, bp_big, drug):\n",
    "    for i in range(n_patients):\n",
    "        # assign random patient to pat\n",
    "        pat = bp_big[\"stay_id\"].value_counts()[bp_big[\"stay_id\"].value_counts() > 0].sample(5).index[0]\n",
    "        fig = go.Figure()\n",
    "        fig.add_trace(go.Scatter(x=bp_big[bp_big[\"stay_id\"] == pat][\"cur_bp_time\"], y=bp_big[bp_big[\"stay_id\"] == pat][\"cur_bp\"], name=\"MAP\"))\n",
    "        # scatter plot of norepinephrine infusion, not line plot\n",
    "        # fig.add_trace(go.Scatter(x=drug[drug[\"patientunitstayid\"] == pat][\"infusionoffset\"], y=drug[drug[\"patientunitstayid\"] == pat][\"drugrate\"], name=\"drug\", mode=\"markers\", marker=dict(color=\"red\")), row=i+1, col=1)\n",
    "        x = drug[drug[\"patientunitstayid\"] == pat][\"infusionoffset\"]\n",
    "        z = drug[drug[\"patientunitstayid\"] == pat][\"drugrate\"]\n",
    "        # make z values between 0 and 10\n",
    "        z2 = (z - z.min()) / (z.max() - z.min()) * 10\n",
    "        # set y as a liitle under the min of bp and higher drugrate be higher\n",
    "        y = bp_big[bp_big[\"stay_id\"] == pat][\"cur_bp\"].min() - 10 + z2\n",
    "        fig.add_trace(go.Scatter(x=x, y=y * np.ones(x.size), name=\"NOR\", mode=\"markers\", marker=dict(color=z,colorscale='Viridis',\n",
    "            colorbar=dict(title='NOR')\n",
    "        ),\n",
    "        )) # TODO added drug amount as color\n",
    "        fig.update_layout(title_text=\"bp over time for 5 patients\")\n",
    "        fig.write_image(f\"bp{i}.png\")\n",
    "        # create a histogram of bp values for the patient\n",
    "        fig = go.Figure()\n",
    "        fig.add_trace(go.Histogram(x=bp_big[bp_big[\"stay_id\"] == pat][\"cur_bp\"], name=\"bp\"))\n",
    "        fig.update_layout(title_text=\"bp over time for patient\")\n",
    "        fig.write_image(f\"bp_hist{i}.png\")\n",
    "\n"
   ]
  },
  {
   "cell_type": "code",
   "execution_count": 35,
   "metadata": {},
   "outputs": [],
   "source": [
    "# create plot of raw bp rolling median and residuals\n",
    "def rolling_median_graphs(n_patients, bp_big, n_measurments, window_size, start_measurment):\n",
    "    for i in range(n_patients):\n",
    "\n",
    "        # assign random patient to pat\n",
    "        pat = bp_big[\"stay_id\"].value_counts()[bp_big[\"stay_id\"].value_counts() > 0].index[i]\n",
    "        fig = make_subplots(rows=5, cols=1)\n",
    "\n",
    "        time = bp_big[bp_big[\"stay_id\"] == pat][\"cur_bp_time\"]\n",
    "        time = time[start_measurment[i]:start_measurment[i] + n_measurments]\n",
    "        raw_bp = bp_big[bp_big[\"stay_id\"] == pat][\"cur_bp\"]\n",
    "        raw_bp = raw_bp[start_measurment[i]:start_measurment[i] + n_measurments]\n",
    "        data_ = pd.DataFrame(data={'time': time, 'raw_bp': raw_bp})\n",
    "\n",
    "        for k, j in enumerate(window_size):\n",
    "\n",
    "            # Apply rolling median\n",
    "            data_[f'window_{j}'] = data_['raw_bp'].rolling(j, center=True).median()\n",
    "            data_[f'dist_{j}'] = data_['raw_bp']-data_[f'window_{j}']\n",
    "            data_[f'abs_dist{j}'] = np.abs(data_[f'dist_{j}'])\n",
    "            dist_median = np.nanmedian(data_[f'abs_dist{j}'])\n",
    "            data_[f'dist_median{j}'] = dist_median\n",
    "\n",
    "            #raw data\n",
    "            fig.add_trace(go.Scatter(x=data_['time'], y=data_['raw_bp'], mode='lines', marker=dict(color='blue'), name=\"raw_bp\"), row=1, col=1)\n",
    "\n",
    "            #raw data vs smooth data\n",
    "            fig.add_trace(go.Scatter(x=data_['time'], y=data_['raw_bp'], mode='lines', marker=dict(color='blue'), name=\"raw_bp\"), row=k+2, col=1)\n",
    "            fig.add_trace(go.Scatter(x=data_['time'], y=data_[f'window_{j}'], mode='lines', name=f'window_{j}'), row=k+2, col=1)\n",
    "\n",
    "            # dist with threshhold\n",
    "            fig.add_trace(go.Scatter(x=data_['time'], y=data_[f'abs_dist{j}'], mode='lines', name=f'dist{j}'), row=5, col=1)\n",
    "            # fig.add_trace(go.Scatter(x=data_['time'], y=data_['dist_median']*filter_size, mode='lines', name=f'threshold: {dist_median * filter_size}'), row=3, col=1)\n",
    "            \n",
    "            #raw with filtered\n",
    "            # fig.add_trace(go.Scatter(x=data_['time'], y=data_['raw_bp'], mode='lines', name=\"raw_bp\"), row=4, col=1)\n",
    "            # data_ = data_[data_['abs_dist'] <= dist_median * filter_size]\n",
    "            # fig.add_trace(go.Scatter(x=data_['time'], y=data_['raw_bp'], mode='lines', name=\"filtered_bp\"), row=4, col=1)\n",
    "\n",
    "\n",
    "        fig.update_layout(title_text=f\"bp over time for patient {i}\")\n",
    "        fig.write_image(f\"bp{i}.png\")\n"
   ]
  },
  {
   "cell_type": "code",
   "execution_count": 22,
   "metadata": {},
   "outputs": [],
   "source": [
    "# run\n",
    "def run(bp, n_patients, n_measurments, window_size, start_measurment):\n",
    "    bp_big  = bp[bp['pat_per_hos'] >= 50 ]\n",
    "    print('unique satyId in bp_big: ', bp_big[\"stay_id\"].nunique())\n",
    "    # bp_and_nor_over_time(n_patients, bp_big, drug)\n",
    "    rolling_median_graphs(n_patients, bp_big, n_measurments, window_size, start_measurment)"
   ]
  },
  {
   "cell_type": "code",
   "execution_count": 12,
   "metadata": {
    "ExecuteTime": {
     "end_time": "2023-05-14T13:22:00.906327Z",
     "start_time": "2023-05-14T13:22:00.857080Z"
    }
   },
   "outputs": [
    {
     "name": "stderr",
     "output_type": "stream",
     "text": [
      "C:\\Users\\User\\AppData\\Local\\Temp/ipykernel_12228/2668292059.py:3: DtypeWarning:\n",
      "\n",
      "Columns (4) have mixed types.Specify dtype option on import or set low_memory=False.\n",
      "\n"
     ]
    }
   ],
   "source": [
    "drug_path = \"../data/eICU/infusiondrug.csv\"\n",
    "patient_path = \"../data/eICU/patient.csv\"\n",
    "diagnosis_path = \"../data/eICU/diagnosis.csv\"\n",
    "bp_path = \"../preprocess/filtered_bp_eicu.csv\"\n",
    "drug, diagnosis, patient, bp = load_data(drug_path, patient_path, diagnosis_path, bp_path)\n",
    "    "
   ]
  },
  {
   "cell_type": "code",
   "execution_count": 36,
   "metadata": {},
   "outputs": [
    {
     "name": "stdout",
     "output_type": "stream",
     "text": [
      "[512 563 337 452 347 944 832 966 454 290 348 208 236 669   6 214 927 814\n",
      " 944 731 796 231 826 616 655 542 578 530 437 530 234  21 281 604 418 118\n",
      " 795 828 162 429 127 810 988 177 917 390  47 272 293 492]\n",
      "unique satyId in bp_big:  1951\n"
     ]
    }
   ],
   "source": [
    "seed_value = 48\n",
    "np.random.seed(seed_value)\n",
    "n_patients = 50\n",
    "n_measurments = 200\n",
    "start_measurment = np.random.randint(0, 1001, size=n_patients)\n",
    "print(start_measurment)\n",
    "window_size = [3,5,10]\n",
    "run(bp, n_patients, n_measurments, window_size, start_measurment)\n"
   ]
  },
  {
   "cell_type": "code",
   "execution_count": null,
   "metadata": {},
   "outputs": [],
   "source": []
  }
 ],
 "metadata": {
  "kernelspec": {
   "display_name": "Python 3 (ipykernel)",
   "language": "python",
   "name": "python3"
  },
  "language_info": {
   "codemirror_mode": {
    "name": "ipython",
    "version": 3
   },
   "file_extension": ".py",
   "mimetype": "text/x-python",
   "name": "python",
   "nbconvert_exporter": "python",
   "pygments_lexer": "ipython3",
   "version": "3.9.7"
  }
 },
 "nbformat": 4,
 "nbformat_minor": 1
}
